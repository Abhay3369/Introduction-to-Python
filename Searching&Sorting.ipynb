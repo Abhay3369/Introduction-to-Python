{
 "cells": [
  {
   "cell_type": "markdown",
   "metadata": {},
   "source": [
    "<h2>Code Binary Search</h2>\n",
    "You have been given a sorted(in ascending order) integer array/list(ARR) of size N and an element X. Write a function to search this element in the given input array/list using 'Binary Search'. Return the index of the element in the input array/list. In case the element is not present in the array/list, then return -1.\n",
    "\n",
    "Sample Input 1:<br>\n",
    "7<br>\n",
    "1 3 7 9 11 12 45<br>\n",
    "1<br>\n",
    "3<br>\n",
    "Sample Output 1:<br>\n",
    "1\n"
   ]
  },
  {
   "cell_type": "code",
   "execution_count": 9,
   "metadata": {},
   "outputs": [
    {
     "name": "stdout",
     "output_type": "stream",
     "text": [
      "1\n"
     ]
    }
   ],
   "source": [
    "def binarySearch(arr, n, x) :\n",
    "    start = 0\n",
    "    end = n -1\n",
    "    while start<=end:\n",
    "        # mid = (start+end)//2\n",
    "        mid = start + (end - start)//2\n",
    "        if arr[mid] > x:\n",
    "            end = mid -1\n",
    "        elif arr[mid]< x:\n",
    "            start= mid+1\n",
    "        else:\n",
    "            return mid\n",
    "    return -1\n",
    "\n",
    "n = int(input())\n",
    "arr = [int(x) for x in input().split()]\n",
    "x1 = int(input())\n",
    "for i in range(x1):\n",
    "    x = int(input(x))\n",
    "    print(binarySearch(arr,n,x))"
   ]
  },
  {
   "cell_type": "markdown",
   "metadata": {},
   "source": [
    "<h2>Code Selection Sort</h2>\n",
    "\n",
    "Provided with a random integer array/list(ARR) of size N, you have been required to sort this array using 'Selection Sort'.\n",
    "\n",
    "Sample Input 1:\n",
    "\n",
    "1\n",
    "\n",
    "7\n",
    "\n",
    "2 13 4 1 3 6 28\n",
    "\n",
    "Sample Output 1:\n",
    "\n",
    "1 2 3 4 6 13 28"
   ]
  },
  {
   "cell_type": "code",
   "execution_count": 15,
   "metadata": {},
   "outputs": [
    {
     "name": "stdout",
     "output_type": "stream",
     "text": [
      "1 2 3 4 6 13 28\n"
     ]
    }
   ],
   "source": [
    "def selectionSort(arr,n):\n",
    "    for i in range(n):\n",
    "        min = i\n",
    "        for j in range(i+1,n):\n",
    "            if arr[j]<arr[min]:\n",
    "                min = j\n",
    "        arr[i],arr[min] = arr[min],arr[i]\n",
    "    print(*arr)\n",
    "\n",
    "loop = int(input())\n",
    "for i in range(loop):\n",
    "    n = int(input())\n",
    "    arr = [int(x)  for x in  input().split()]\n",
    "    selectionSort(arr,n)"
   ]
  },
  {
   "cell_type": "markdown",
   "metadata": {},
   "source": [
    "<h2>Code Bubble Sort</h2>\n",
    "\n",
    "Provided with a random integer array/list(ARR) of size N, you have been required to sort this array using 'Bubble Sort'.\n",
    "\n",
    "Sample Input 1:<br>\n",
    "1<br>\n",
    "7<br>\n",
    "2 13 4 1 3 6 28<br>\n",
    "Sample Output 1:<br>\n",
    "1 2 3 4 6 13 28"
   ]
  },
  {
   "cell_type": "code",
   "execution_count": 17,
   "metadata": {},
   "outputs": [
    {
     "name": "stdout",
     "output_type": "stream",
     "text": [
      "1 2 3 4 6 13 28\n"
     ]
    }
   ],
   "source": [
    "def bubbleSort(arr,n):\n",
    "    for i in range(arr):\n",
    "        for j in range(0,n - i -1):\n",
    "            if arr[j]>arr[j+1]:\n",
    "                arr[j],arr[j+1] = arr[j+1],arr[j]\n",
    "    print(*arr)\n",
    "\n",
    "loop = int(input())\n",
    "for i in range(loop):\n",
    "    n = int(input())\n",
    "    arr = [int(x)  for x in  input().split()]\n",
    "    selectionSort(arr,n)"
   ]
  },
  {
   "cell_type": "markdown",
   "metadata": {},
   "source": [
    "<h2>Code Insertion Sort</h2>\n",
    "\n",
    "Provided with a random integer array/list(ARR) of size N, you have been required to sort this array using 'Insertion Sort'.\n",
    "\n",
    "Sample Input 1:<br>\n",
    "1<br>\n",
    "7<br>\n",
    "2 13 4 1 3 6 28<br>\n",
    "Sample Output 1:<br>\n",
    "1 2 3 4 6 13 28"
   ]
  },
  {
   "cell_type": "code",
   "execution_count": 22,
   "metadata": {},
   "outputs": [
    {
     "name": "stdout",
     "output_type": "stream",
     "text": [
      "1 2 3 4 6 13 28\n"
     ]
    }
   ],
   "source": [
    "def insertionSort(arr, n) :  \n",
    "    for i in range(1,n):\n",
    "        temp = arr[i]\n",
    "        j = i-1\n",
    "        while j>=0 and arr[j]>temp:\n",
    "            arr[j+1] = arr[j]\n",
    "            j -=1\n",
    "\n",
    "loop = int(input())\n",
    "for i in range(loop):\n",
    "    n = int(input())\n",
    "    arr = [int(x)  for x in  input().split()]\n",
    "    selectionSort(arr,n)"
   ]
  },
  {
   "cell_type": "markdown",
   "metadata": {},
   "source": [
    "<h2>Code Merge Two Sorted Arrays\n",
    "</h2>\n",
    "\n",
    "You have been given two sorted arrays/lists(ARR1 and ARR2) of size N and M respectively, merge them into a third array/list such that the third array is also sorted.\n",
    "\n",
    "\n",
    "Sample Input 1 :<br>\n",
    "1<br>\n",
    "5<br>\n",
    "1 3 4 7 11<br>\n",
    "4<br>\n",
    "2 4 6 13<br>\n",
    "Sample Output 1 :<br>\n",
    "1 2 3 4 4 6 7 11 13 "
   ]
  },
  {
   "cell_type": "code",
   "execution_count": 29,
   "metadata": {},
   "outputs": [
    {
     "name": "stdout",
     "output_type": "stream",
     "text": [
      "1 2 3 4 4 6 7 11 13\n"
     ]
    }
   ],
   "source": [
    "def mergeSort(arr1,n,arr2,m):\n",
    "    ans = (n+m) * [0] \n",
    "    i,j,k = 0,0,0\n",
    "    while i < n and j< m:\n",
    "        if arr1[i] < arr2[j]:\n",
    "            ans[k] = arr1[i]\n",
    "            k += 1\n",
    "            i += 1\n",
    "        else:\n",
    "            ans[k] = arr2[j]\n",
    "            k += 1\n",
    "            j +=1\n",
    "    while i < n :\n",
    "        ans[k] = arr1[i]\n",
    "        k += 1\n",
    "        i += 1\n",
    "    while j < m :\n",
    "        ans[k] = arr2[j]\n",
    "        k += 1\n",
    "        j += 1\n",
    "    print(*ans)\n",
    "\n",
    "\n",
    "loop = int(input())\n",
    "for i in range(loop):\n",
    "    n = int(input())\n",
    "    arr1 = [int(x) for x in input().split()]\n",
    "    m = int(input())\n",
    "    arr2 = [int(x) for x in input().split()]\n",
    "    mergeSort(arr1,n,arr2,m)"
   ]
  },
  {
   "cell_type": "markdown",
   "metadata": {},
   "source": [
    "<h2>Push Zeros to end</h2>\n",
    "\n",
    "You have been given a random integer array/list(ARR) of size N. You have been required to push all the zeros that are present in the array/list to the end of it. Also, make sure to maintain the relative order of the non-zero elements.\n",
    "\n",
    "Sample Input 1:<br>\n",
    "1<br>\n",
    "7<br>\n",
    "2 0 0 1 3 0 0<br>\n",
    "Sample Output 1:<br>\n",
    "2 1 3 0 0 0 0"
   ]
  },
  {
   "cell_type": "code",
   "execution_count": 48,
   "metadata": {},
   "outputs": [
    {
     "name": "stdout",
     "output_type": "stream",
     "text": [
      "2 1 3 0 0 0 0\n"
     ]
    }
   ],
   "source": [
    "def pushZeroesToEnd(arr,n):\n",
    "    nonZero = 0\n",
    "    for i in range(n):\n",
    "        if arr[i] != 0:\n",
    "            arr[i],arr[nonZero] = arr[nonZero],arr[i]\n",
    "            nonZero += 1\n",
    "\n",
    "    print(*arr)\n",
    "loop = int(input())\n",
    "for i in range(loop):\n",
    "    n = int(input())\n",
    "    arr= [int(x) for x in input().split()]\n",
    "    pushZeroesToEnd(arr,n)"
   ]
  },
  {
   "cell_type": "markdown",
   "metadata": {},
   "source": [
    "<h2>Rotate array\n",
    "</h2>\n",
    "\n",
    "You have been given a random integer array/list(ARR) of size N. Write a function that rotates the given array/list by D elements(towards the left).\n",
    "\n",
    "Sample Input 1:<br>\n",
    "1<br>\n",
    "7<br>\n",
    "1 2 3 4 5 6 7<br>\n",
    "2<br>\n",
    "Sample Output 1:<br>\n",
    "3 4 5 6 7 1 2"
   ]
  },
  {
   "cell_type": "code",
   "execution_count": 51,
   "metadata": {},
   "outputs": [
    {
     "name": "stdout",
     "output_type": "stream",
     "text": [
      "1 2 3 4 5 6 7\n",
      "3 4 1 2\n"
     ]
    }
   ],
   "source": [
    "def pushZeroesToEnd(arr,n,x):\n",
    "    nonZero = x\n",
    "    for i in range(n-x):\n",
    "        if arr[i] != 0:\n",
    "            arr[i],arr[nonZero] = arr[nonZero],arr[i]\n",
    "            nonZero += 1\n",
    "\n",
    "    print(*arr)\n",
    "loop = int(input())\n",
    "for i in range(loop):\n",
    "    n = int(input())\n",
    "    arr= [int(x) for x in input().split()]\n",
    "    x = int(input())\n",
    "    pushZeroesToEnd(arr,n,x)"
   ]
  },
  {
   "cell_type": "markdown",
   "metadata": {},
   "source": [
    "<h2>Second Largest in array\n",
    "</h2>\n",
    "\n",
    "You have been given a random integer array/list(ARR) of size N. You are required to find and return the second largest element present in the array/list.\n",
    "If N <= 1 or all the elements are same in the array/list then return -2147483648 or -2 ^ 31(It is the smallest value for the range of Integer\n",
    "\n",
    "Sample Input 1:<br>\n",
    "1<br>\n",
    "7<br>\n",
    "2 13 4 1 3 6 28<br>\n",
    "Sample Output 1:<br>\n",
    "13"
   ]
  },
  {
   "cell_type": "code",
   "execution_count": 68,
   "metadata": {},
   "outputs": [
    {
     "name": "stdout",
     "output_type": "stream",
     "text": [
      "13\n"
     ]
    }
   ],
   "source": [
    "MIN_VALUE = -2147483648 \n",
    "def secondLargestElement(arr, n):\n",
    "    if n == 0 : \n",
    "        return MIN_VALUE\n",
    "    largest = arr[0] \n",
    "    secondLargest = MIN_VALUE \n",
    "    for i in range(n) : \n",
    "        if largest < arr[i] : \n",
    "            secondLargest = largest \n",
    "            largest = arr[i]\n",
    "        elif secondLargest < arr[i] and arr[i] != largest :\n",
    "            secondLargest = arr[i] \n",
    "    print(secondLargest)\n",
    "\n",
    "loop = int(input())\n",
    "for i in range(loop):\n",
    "    n = int(input())\n",
    "    arr = [int(x)  for x in  input().split()]\n",
    "    secondLargestElement(arr,n)"
   ]
  },
  {
   "cell_type": "markdown",
   "metadata": {},
   "source": [
    "<h2>Check Array Rotation</h2>\n",
    "\n",
    "You have been given an integer array/list(ARR) of size N. It has been sorted(in increasing order) and then rotated by some number 'K' in the right hand direction.\n",
    "Your task is to write a function that returns the value of 'K', that means, the index from which the array/list has been rotated.\n",
    "\n",
    "Sample Input 1:<br>\n",
    "1<br>\n",
    "6<br>\n",
    "5 6 1 2 3 4<br>\n",
    "Sample Output 1:<br>\n",
    "2\n"
   ]
  },
  {
   "cell_type": "code",
   "execution_count": 77,
   "metadata": {},
   "outputs": [
    {
     "name": "stdout",
     "output_type": "stream",
     "text": [
      "2\n"
     ]
    }
   ],
   "source": [
    "def countRotations(arr, n):\n",
    "    min = arr[0]\n",
    "    min_index = 0\n",
    "    for i in range(0, n):\n",
    "     \n",
    "        if (min > arr[i]):\n",
    "         \n",
    "            min = arr[i]\n",
    "            min_index = i\n",
    "         \n",
    "    print(min_index)\n",
    "\n",
    "loop = int(input())\n",
    "for i in range(loop):\n",
    "    n = int(input())\n",
    "    arr = [int(x)  for x in  input().split()]\n",
    "    countRotations(arr,n)"
   ]
  },
  {
   "cell_type": "code",
   "execution_count": 78,
   "metadata": {},
   "outputs": [
    {
     "name": "stdout",
     "output_type": "stream",
     "text": [
      "0 0 0 1 1 2 2 "
     ]
    }
   ],
   "source": [
    "def sort012(arr):\n",
    "    ans = []\n",
    "    for i in range(l):\n",
    "        if arr[i] == 0:\n",
    "            ans.append(arr[i])\n",
    "    for j in range(l):\n",
    "        if arr[j] == 1:\n",
    "            ans.append(arr[j])\n",
    "    for k in range(l):\n",
    "        if arr[k] == 2:\n",
    "            ans.append(arr[k])\n",
    "    for m in range(l):\n",
    "        print(ans[m],end=' ' )\n",
    "            \n",
    "\n",
    "loop = int(input())\n",
    "for p in range(loop):\n",
    "    l = int(input())\n",
    "    arr = [int(x) for x in input().split()]\n",
    "    sort012(arr)"
   ]
  },
  {
   "cell_type": "markdown",
   "metadata": {},
   "source": [
    "<h2>Sum of Two Arrays</h2>\n",
    "\n",
    "Two random integer arrays/lists have been given as ARR1 and ARR2 of size N and M respectively. Both the arrays/lists contain numbers from 0 to 9(i.e. single digit integer is present at every index). The idea here is to represent each array/list as an integer in itself of digits N and M.\n",
    "You need to find the sum of both the input arrays/list treating them as two integers and put the result in another array/list i.e. output array/list will also contain only single digit at every index.\n",
    "\n",
    "Sample Input 1:<br>\n",
    "1<br>\n",
    "3<br>\n",
    "6 2 4<br>\n",
    "3<br>\n",
    "7 5 6<br>\n",
    "Sample Output 1:<br>\n",
    "1 3 8 0"
   ]
  },
  {
   "cell_type": "code",
   "execution_count": 90,
   "metadata": {},
   "outputs": [
    {
     "name": "stdout",
     "output_type": "stream",
     "text": [
      "1 3 8 0\n",
      "\n"
     ]
    }
   ],
   "source": [
    "def sumArray(arr1,n,arr2,m,output):\n",
    "    i=n-1\n",
    "    j=m-1\n",
    "    carry=0\n",
    "    size = 0\n",
    "    if n>m:\n",
    "        size += n\n",
    "    else:\n",
    "        size += m\n",
    "\n",
    "    l=size+1\n",
    "    while i>=0 and j>=0:\n",
    "        num=arr1[i]+arr2[j]+carry\n",
    "        s=num%10\n",
    "        carry=num//10\n",
    "        output[l-1]=s\n",
    "        l=l-1\n",
    "        i=i-1\n",
    "        j=j-1\n",
    "    while i>=0:\n",
    "        num=arr1[i]+carry\n",
    "        s=num%10\n",
    "        carry=num//10\n",
    "        output[l-1]=s\n",
    "        l=l-1\n",
    "        i=i-1\n",
    "    while j>=0:\n",
    "        num=arr2[j]+carry\n",
    "        s=num%10\n",
    "        carry=num//10\n",
    "        output[l-1]=s\n",
    "        l=l-1\n",
    "        j=j-1\n",
    "    if carry!=0:\n",
    "        output[0]=carry\n",
    "\n",
    "t=int(input())\n",
    "for i in range(t):\n",
    "    n=int(input())\n",
    "    arr1=[int(x) for x in input().split()]\n",
    "    m=int(input())\n",
    "    arr2=[int(x) for x in input().split()]\n",
    "    size = 0\n",
    "    if n>m:\n",
    "        size += n\n",
    "    else:\n",
    "        size += m\n",
    "    output=[0 for i in range(size+1)]\n",
    "    sumArray(arr1,n,arr2,m,output)\n",
    "    print(*output)\n",
    "    print()"
   ]
  },
  {
   "cell_type": "markdown",
   "metadata": {},
   "source": [
    "<h2>Quick Sort</h2>"
   ]
  },
  {
   "cell_type": "code",
   "execution_count": 91,
   "metadata": {},
   "outputs": [
    {
     "name": "stdout",
     "output_type": "stream",
     "text": [
      "Unsorted Array\n",
      "[8, 7, 2, 1, 0, 9, 6]\n",
      "Sorted Array in Ascending Order:\n",
      "[0, 1, 2, 6, 7, 8, 9]\n"
     ]
    }
   ],
   "source": [
    "# Quick sort in Python\n",
    "\n",
    "# function to find the partition position\n",
    "def partition(array, low, high):\n",
    "\n",
    "  # choose the rightmost element as pivot\n",
    "  pivot = array[high]\n",
    "\n",
    "  # pointer for greater element\n",
    "  i = low - 1\n",
    "\n",
    "  # traverse through all elements\n",
    "  # compare each element with pivot\n",
    "  for j in range(low, high):\n",
    "    if array[j] <= pivot:\n",
    "      # if element smaller than pivot is found\n",
    "      # swap it with the greater element pointed by i\n",
    "      i = i + 1\n",
    "\n",
    "      # swapping element at i with element at j\n",
    "      (array[i], array[j]) = (array[j], array[i])\n",
    "\n",
    "  # swap the pivot element with the greater element specified by i\n",
    "  (array[i + 1], array[high]) = (array[high], array[i + 1])\n",
    "\n",
    "  # return the position from where partition is done\n",
    "  return i + 1\n",
    "\n",
    "# function to perform quicksort\n",
    "def quickSort(array, low, high):\n",
    "  if low < high:\n",
    "\n",
    "    # find pivot element such that\n",
    "    # element smaller than pivot are on the left\n",
    "    # element greater than pivot are on the right\n",
    "    pi = partition(array, low, high)\n",
    "\n",
    "    # recursive call on the left of pivot\n",
    "    quickSort(array, low, pi - 1)\n",
    "\n",
    "    # recursive call on the right of pivot\n",
    "    quickSort(array, pi + 1, high)\n",
    "\n",
    "\n",
    "data = [8, 7, 2, 1, 0, 9, 6]\n",
    "print(\"Unsorted Array\")\n",
    "print(data)\n",
    "\n",
    "size = len(data)\n",
    "\n",
    "quickSort(data, 0, size - 1)\n",
    "\n",
    "print('Sorted Array in Ascending Order:')\n",
    "print(data)"
   ]
  }
 ],
 "metadata": {
  "kernelspec": {
   "display_name": "Python 3.10.4 64-bit",
   "language": "python",
   "name": "python3"
  },
  "language_info": {
   "codemirror_mode": {
    "name": "ipython",
    "version": 3
   },
   "file_extension": ".py",
   "mimetype": "text/x-python",
   "name": "python",
   "nbconvert_exporter": "python",
   "pygments_lexer": "ipython3",
   "version": "3.10.4"
  },
  "orig_nbformat": 4,
  "vscode": {
   "interpreter": {
    "hash": "a42ccb73e7d9bfdf27e036f1d2b8b681e55fc0743cc5586bc2474d4a60f4b886"
   }
  }
 },
 "nbformat": 4,
 "nbformat_minor": 2
}
