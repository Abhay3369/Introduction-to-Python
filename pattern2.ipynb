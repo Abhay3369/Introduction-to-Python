{
 "cells": [
  {
   "cell_type": "markdown",
   "metadata": {},
   "source": [
    "<h2>Code : Inverted Number Pattern</h2>\n",
    "Print the following pattern for the given N number of rows.\n",
    "\n",
    "Pattern for N = 4\n",
    "\n",
    "4444<br>\n",
    "333<br>\n",
    "22<br>\n",
    "1<br>\n",
    "\n",
    "Sample Input 1:\n",
    "5\n",
    "\n",
    "Sample Output 1:\n",
    "\n",
    "55555<br>\n",
    "4444<br>\n",
    "333<br>\n",
    "22<br>\n",
    "1<br>"
   ]
  },
  {
   "cell_type": "code",
   "execution_count": 2,
   "metadata": {},
   "outputs": [
    {
     "name": "stdout",
     "output_type": "stream",
     "text": [
      "55555\n",
      "4444\n",
      "333\n",
      "22\n",
      "1\n"
     ]
    }
   ],
   "source": [
    "n = int(input())\n",
    "for i in range(1,n+1):\n",
    "    for j in range(1,n - i + 2):\n",
    "        print(n-i+1,end = '')\n",
    "    print()"
   ]
  },
  {
   "cell_type": "markdown",
   "metadata": {},
   "source": [
    "<h2>Code : Mirror Number Pattern</h2>\n",
    "Print the following pattern for the given N number of rows.\n",
    "\n",
    "Pattern for N = 4\n",
    "\n",
    "\n",
    "   1<br>\n",
    "  12<br>\n",
    " 123<br>\n",
    "1234<br>\n",
    "\n",
    "\n",
    "Sample Input 1:\n",
    "4\n",
    "\n",
    "Sample Output 1:\n",
    "\n",
    "   1<br>\n",
    "  12<br>\n",
    " 123<br>\n",
    "1234<br>\n"
   ]
  },
  {
   "cell_type": "code",
   "execution_count": 7,
   "metadata": {},
   "outputs": [
    {
     "name": "stdout",
     "output_type": "stream",
     "text": [
      "   1\n",
      "  12\n",
      " 123\n",
      "1234\n"
     ]
    }
   ],
   "source": [
    "n = int(input())\n",
    "for i in range(1,n+1):\n",
    "    for j in range(1,n - i+1):\n",
    "        print(\" \",end= '')\n",
    "    for k in range(1,i+1):\n",
    "        print(k,end = '')\n",
    "    print()"
   ]
  },
  {
   "cell_type": "markdown",
   "metadata": {},
   "source": [
    "<h2>Code : Star Pattern</h2>\n",
    "Print the following pattern\n",
    "\n",
    "Pattern for N = 4<br>\n",
    "\n",
    "...*<br>\n",
    "..***<br>\n",
    ".*****<br>\n",
    "*******<br>\n",
    "\n",
    "\n",
    "Sample Input 1 :\n",
    "3\n",
    "\n",
    "Sample Output 1 :<br>\n",
    "..*<br>\n",
    ".***<br>\n",
    "*****<br>"
   ]
  },
  {
   "cell_type": "code",
   "execution_count": 11,
   "metadata": {},
   "outputs": [
    {
     "name": "stdout",
     "output_type": "stream",
     "text": [
      "   *\n",
      "  ***\n",
      " *****\n",
      "*******\n"
     ]
    }
   ],
   "source": [
    "n = int(input())\n",
    "for i in range(1,n+1):\n",
    "    for j in range(1,n - i+1):\n",
    "        print(\" \",end= '')\n",
    "    for k in range(1,i+1):\n",
    "        print(\"*\",end = '')\n",
    "    p = i - 1\n",
    "    while p>=1:\n",
    "        print(\"*\",end = '')\n",
    "        p -= 1\n",
    "    print()"
   ]
  },
  {
   "cell_type": "markdown",
   "metadata": {},
   "source": [
    "<h2>Code : Triangle of Numbers</h2>\n",
    "Print the following pattern for the given number of rows.\n",
    "\n",
    "Pattern for N = 4\n",
    "\n",
    "...1<br>\n",
    "..232<br>\n",
    ".34543<br>\n",
    "4567654<br>\n",
    "\n",
    "The dots represent spaces\n",
    "\n",
    "Sample Input 1:\n",
    "4\n",
    "\n",
    "Sample Output 1:\n",
    "\n",
    "...1<br>\n",
    "..232<br>\n",
    ".34543<br>\n",
    "4567654<br>"
   ]
  },
  {
   "cell_type": "code",
   "execution_count": 6,
   "metadata": {},
   "outputs": [
    {
     "name": "stdout",
     "output_type": "stream",
     "text": [
      "   1\n",
      "  23\n",
      " 345\n",
      "4567\n"
     ]
    }
   ],
   "source": [
    "n=int(input())\n",
    "i=1\n",
    "while i<=n:\n",
    "    s=1\n",
    "    while s<=n-i:\n",
    "        print(\" \",end=\"\")\n",
    "        s+=1\n",
    "    j=1\n",
    "    v=i\n",
    "    while j<=i:\n",
    "        print(v,end=\"\")\n",
    "        v+=1\n",
    "        j+=1\n",
    "    j=1\n",
    "    v=2*i-2\n",
    "    while j<=i-1:\n",
    "        print(v,end=\"\")\n",
    "        v-=1\n",
    "        j+=1\n",
    "    print()\n",
    "    i+=1"
   ]
  },
  {
   "cell_type": "markdown",
   "metadata": {},
   "source": [
    "<h2>Code : Diamond of stars</h2>\n",
    "Print the following pattern for the given number of rows.\n",
    "\n",
    "Note: N is always odd.\n",
    "  *\n",
    " ***\n",
    "*****\n",
    " ***\n",
    "  *\n",
    "\n",
    "Pattern for N = 5\n",
    "\n",
    "\n",
    "Sample Input 1:\n",
    "5\n",
    "\n",
    "Sample Output 1:\n",
    "\n",
    "  *\n",
    " ***\n",
    "*****\n",
    " ***\n",
    "  *"
   ]
  },
  {
   "cell_type": "code",
   "execution_count": 12,
   "metadata": {},
   "outputs": [
    {
     "name": "stdout",
     "output_type": "stream",
     "text": [
      "  *\n",
      " ***\n",
      "*****\n",
      " ***\n",
      "  *\n"
     ]
    }
   ],
   "source": [
    "n=int(input())\n",
    "first=n//2+1\n",
    "sec=n//2\n",
    "#first loop\n",
    "for i in range(1,first+1):\n",
    "    print(\" \"*(first-i),end=\"\")\n",
    "    print((2*i-1)*\"*\",end=\"\")\n",
    "    print()\n",
    "#Second Loop\n",
    "for p in range(1,sec+1):\n",
    "    print(\" \"*p,end=\"\")\n",
    "    print((2*(sec-p+1)-1)*\"*\",end=\"\")\n",
    "    print()"
   ]
  },
  {
   "cell_type": "markdown",
   "metadata": {},
   "source": [
    "<h2>Number Pattern</h2>\n",
    "\n",
    "Print the following pattern for n number of rows. <br>\n",
    "Note: each line consist of equal number of characters + spaces. Suppose you <br>are printing xth line for N=n. You need to print 1..x followed by (n-x)<br> spaces, again (n-x) spaces followed by x..1<br>\n",
    "For eg. N = 5<br>\n",
    "\n",
    "1        1<br>\n",
    "12      21<br>\n",
    "123    321<br>\n",
    "1234  4321<br>\n",
    "1234554321<br>\n",
    "\n",
    "Sample Input 1 :\n",
    "4\n",
    "\n",
    "Sample Output 1 :\n",
    "\n",
    "1......1<br>\n",
    "12....21<br>\n",
    "123..321<br>\n",
    "12344321<br>"
   ]
  },
  {
   "cell_type": "code",
   "execution_count": 25,
   "metadata": {},
   "outputs": [
    {
     "name": "stdout",
     "output_type": "stream",
     "text": [
      "1      \n",
      "12    \n",
      "123  \n",
      "1234\n"
     ]
    }
   ],
   "source": [
    "n = int(input())\n",
    "i =1\n",
    "while i<=n:\n",
    "    p =1\n",
    "    j = 1\n",
    "    while j<= i:\n",
    "        print(j, end='')\n",
    "        j = j+1\n",
    "    while p<=((2*n) - (2*i)):\n",
    "        print(' ', end='')\n",
    "        p = p+1\n",
    "    k = i\n",
    "    while k>=1:\n",
    "        print(k, end='')\n",
    "        k = k-1\n",
    "    print()\n",
    "    i = i+1"
   ]
  },
  {
   "cell_type": "markdown",
   "metadata": {},
   "source": [
    "<h2>Zeros and Stars Pattern</h2>\n",
    "Print the following pattern\n",
    "\n",
    "Pattern for N = 4\n",
    "\n",
    "*000*000*<br>\n",
    "0*00*00*0<br>\n",
    "00*0*0*00<br>\n",
    "000***000<br>\n",
    "\n",
    "Sample Input 1 :\n",
    "3\n",
    "\n",
    "Sample Output 1 :\n",
    "\n",
    "*00*00*<br>\n",
    "0*0*0*0<br>\n",
    "00***00<br>\n"
   ]
  },
  {
   "cell_type": "code",
   "execution_count": 2,
   "metadata": {},
   "outputs": [
    {
     "name": "stdout",
     "output_type": "stream",
     "text": [
      "*000*000*\n",
      "0*00*00*0\n",
      "00*0*0*00\n",
      "000***000\n"
     ]
    }
   ],
   "source": [
    "n = int(input())\n",
    "i = 1\n",
    "star = 1\n",
    "while i<=n:\n",
    "    j = 1\n",
    "    while j <= 2*n + 1:\n",
    "        if star == i and star == j:\n",
    "            print('*', end = \"\")\n",
    "            star = star + 1\n",
    "        elif j == n + 1 or j == 2*n+2 - i:\n",
    "            print('*', end = \"\")\n",
    "        else:\n",
    "            print(0, end = \"\")\n",
    "        j = j + 1\n",
    "    print()\n",
    "    i = i + 1"
   ]
  },
  {
   "cell_type": "markdown",
   "metadata": {},
   "source": [
    "<h2>Pyramid Number Pattern</h2>\n",
    "Print the following pattern for the given number of rows.\n",
    "\n",
    "Pattern for N = \n",
    "\n",
    "Sample Input :\n",
    "\n",
    "5\n",
    "\n",
    "Sample Output :\n",
    "\n",
    "        1\n",
    "       212\n",
    "      32123\n",
    "     4321234\n",
    "    543212345"
   ]
  },
  {
   "cell_type": "code",
   "execution_count": 31,
   "metadata": {},
   "outputs": [
    {
     "name": "stdout",
     "output_type": "stream",
     "text": [
      "   1\n",
      "  212\n",
      " 32123\n",
      "4321234\n"
     ]
    }
   ],
   "source": [
    "n = int(input())\n",
    "i = 1\n",
    "while (i<=n):\n",
    "    s = 1\n",
    "    while (s<=n - i):\n",
    "        print(\" \",end = '')\n",
    "        s = s + 1\n",
    "    j = i\n",
    "    while j>0:\n",
    "        print(j,end = '')\n",
    "        j = j - 1\n",
    "    k = 2\n",
    "    while k<=i:\n",
    "        print(k,end = '')\n",
    "        k = k+1\n",
    "\n",
    "    print()\n",
    "    i += 1\n"
   ]
  },
  {
   "cell_type": "markdown",
   "metadata": {},
   "source": [
    "<h2>Arrow pattern</h2>\n",
    "\n",
    "Print the following pattern for the given number of rows.\n",
    "Assume N is always odd.\n",
    "\n",
    "Note : There is space after every star.\n",
    "Pattern for N = 7\n",
    "\n",
    "Sample Input :\n",
    "11\n",
    "Sample Output :\n",
    "*\n",
    " * *\n",
    "   * * *\n",
    "     * * * *\n",
    "       * * * * *\n",
    "         * * * * * *\n",
    "       * * * * *\n",
    "     * * * *\n",
    "   * * *\n",
    " * *\n",
    "*\n",
    "\n"
   ]
  },
  {
   "cell_type": "code",
   "execution_count": 34,
   "metadata": {},
   "outputs": [
    {
     "name": "stdout",
     "output_type": "stream",
     "text": [
      "* \n",
      " * * \n",
      "  * * * \n",
      "   * * * * \n",
      "    * * * * * \n",
      "     * * * * * * \n",
      "    * * * * * \n",
      "   * * * * \n",
      "  * * * \n",
      " * * \n",
      "* \n"
     ]
    }
   ],
   "source": [
    "n = int(input())\n",
    "i = 1\n",
    "while i <= n/2 + 1:\n",
    "    spaces = 1\n",
    "    while spaces < i:\n",
    "        print(\" \", end = '')\n",
    "        spaces = spaces + 1\n",
    "    j = 1    \n",
    "    while j <= i:\n",
    "        print('*', end = ' ')\n",
    "        j = j + 1\n",
    "    print()\n",
    "    i = i + 1\n",
    "\n",
    "while i > n/2 + 1 and i <= n:\n",
    "    spaces = n - i\n",
    "    while spaces > 0: \n",
    "        print(\" \", end = '')\n",
    "        spaces = spaces - 1      \n",
    "    j = 1    \n",
    "    while j <= n-i+1:\n",
    "        print('*', end = ' ')\n",
    "        j = j + 1\n",
    "    print()\n",
    "    i = i + 1"
   ]
  }
 ],
 "metadata": {
  "kernelspec": {
   "display_name": "Python 3.10.4 64-bit",
   "language": "python",
   "name": "python3"
  },
  "language_info": {
   "codemirror_mode": {
    "name": "ipython",
    "version": 3
   },
   "file_extension": ".py",
   "mimetype": "text/x-python",
   "name": "python",
   "nbconvert_exporter": "python",
   "pygments_lexer": "ipython3",
   "version": "3.10.4"
  },
  "orig_nbformat": 4,
  "vscode": {
   "interpreter": {
    "hash": "a42ccb73e7d9bfdf27e036f1d2b8b681e55fc0743cc5586bc2474d4a60f4b886"
   }
  }
 },
 "nbformat": 4,
 "nbformat_minor": 2
}
