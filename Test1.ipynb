{
 "cells": [
  {
   "cell_type": "markdown",
   "metadata": {},
   "source": [
    "<h2>Number Star pattern 1</h2>\n",
    "Print the following pattern for given number of rows.\n",
    "\n",
    "Sample Input :\n",
    "   5\n",
    "   \n",
    "Sample Output :<br>\n",
    " 5432*<br>\n",
    " 543*1<br>\n",
    " 54*21<br>\n",
    " 5*321<br>\n",
    " *4321<br>"
   ]
  },
  {
   "cell_type": "code",
   "execution_count": 6,
   "metadata": {},
   "outputs": [
    {
     "name": "stdout",
     "output_type": "stream",
     "text": [
      "5432*\n",
      "543*1\n",
      "54*21\n",
      "5*321\n",
      "*4321\n"
     ]
    }
   ],
   "source": [
    "n = int(input())\n",
    "for i in range(1,n+1):\n",
    "    for j in range(1,n+1):\n",
    "        if(j == n - i+1):\n",
    "            print(\"*\",end = '')\n",
    "        else:\n",
    "            print(n-j+1,end = '')\n",
    "\n",
    "    print()"
   ]
  },
  {
   "cell_type": "markdown",
   "metadata": {},
   "source": [
    "<h2>Zeros and Stars Pattern</h2>\n",
    "\n",
    "Print the following pattern\n",
    "\n",
    "Pattern for N = 4\n",
    "\n",
    "*000*000*<br>\n",
    "0*00*00*0<br>\n",
    "00*0*0*00<br>\n",
    "000***000<br>\n",
    "\n",
    "Sample Input 1 :<br>\n",
    "3<br>\n",
    "\n",
    "Sample Output 1 :<br>\n",
    "*00*00*<br>\n",
    "0*0*0*0<br>\n",
    "00***00<br>\n"
   ]
  },
  {
   "cell_type": "code",
   "execution_count": 19,
   "metadata": {},
   "outputs": [
    {
     "name": "stdout",
     "output_type": "stream",
     "text": [
      "*00*00*\n",
      "0*0*0*0\n",
      "00***00\n"
     ]
    }
   ],
   "source": [
    "n = int(input())\n",
    "i = 1\n",
    "star = 1\n",
    "while (i<=n):\n",
    "    j =1\n",
    "    while j<=2*n+1:\n",
    "        if star == i and star == j:\n",
    "            print(\"*\",end = '')\n",
    "            star += 1\n",
    "        elif(j == n+1 or j == 2*n+2 - i):\n",
    "            print(\"*\",end = '')\n",
    "        else:\n",
    "            print(\"0\",end = '')\n",
    "        j += 1\n",
    "    print()\n",
    "    i+=1\n"
   ]
  },
  {
   "cell_type": "markdown",
   "metadata": {},
   "source": [
    "<h2>Check Armstrong</h2>\n",
    "Write a Program to determine if the given number is Armstrong number or not. Print true if number is armstrong, otherwise print false.\n",
    "\n",
    "An Armstrong number is a number (with digits n) such that the sum of its digits raised to nth power is equal to the number itself.\n",
    "\n",
    "Sample Input 1 :\n",
    "1\n",
    "\n",
    "Sample Output 1 :\n",
    "true\n"
   ]
  },
  {
   "cell_type": "code",
   "execution_count": 30,
   "metadata": {},
   "outputs": [
    {
     "name": "stdout",
     "output_type": "stream",
     "text": [
      "true\n"
     ]
    }
   ],
   "source": [
    "n = int(input())\n",
    "ans = n\n",
    "arms = 0\n",
    "a = str(n)\n",
    "b = len(a)\n",
    "digit = int(b)\n",
    "\n",
    "while ans > 0:\n",
    "    digval = ans%10\n",
    "    arms = arms + ((digval)**(digit))\n",
    "    ans = (ans//10)\n",
    "\n",
    "if n == arms:\n",
    "    print('true')\n",
    "else:\n",
    "    print('false')"
   ]
  }
 ],
 "metadata": {
  "kernelspec": {
   "display_name": "Python 3.10.4 64-bit",
   "language": "python",
   "name": "python3"
  },
  "language_info": {
   "codemirror_mode": {
    "name": "ipython",
    "version": 3
   },
   "file_extension": ".py",
   "mimetype": "text/x-python",
   "name": "python",
   "nbconvert_exporter": "python",
   "pygments_lexer": "ipython3",
   "version": "3.10.4"
  },
  "orig_nbformat": 4,
  "vscode": {
   "interpreter": {
    "hash": "a42ccb73e7d9bfdf27e036f1d2b8b681e55fc0743cc5586bc2474d4a60f4b886"
   }
  }
 },
 "nbformat": 4,
 "nbformat_minor": 2
}
