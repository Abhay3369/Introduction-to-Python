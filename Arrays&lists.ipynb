{
 "cells": [
  {
   "cell_type": "markdown",
   "metadata": {},
   "source": [
    "<h2>Array Sum</h2>\n",
    "Given an array of length N, you need to find and print the sum of all elements of the array.\n",
    "\n",
    "Sample Input :\n",
    "\n",
    "3<br>\n",
    "9 8 9<br>\n",
    "\n",
    "Sample Output :\n",
    "26"
   ]
  },
  {
   "cell_type": "code",
   "execution_count": 2,
   "metadata": {},
   "outputs": [
    {
     "name": "stdout",
     "output_type": "stream",
     "text": [
      "26\n"
     ]
    }
   ],
   "source": [
    "n = int(input())\n",
    "list = [int(x) for x in input().split()]\n",
    "sum = 0\n",
    "for i in list:\n",
    "    sum += i\n",
    "print(sum)"
   ]
  },
  {
   "cell_type": "markdown",
   "metadata": {},
   "source": [
    "<h2>Swap ALternate</h2>\n",
    "\n",
    "You have been given an array/list(ARR) of size N. You need to swap every pair of alternate elements in the array/list.\n",
    "You don't need to print or return anything, just change in the input array itself.\n",
    "\n",
    "Sample Input 1:\n",
    "\n",
    "1<br>\n",
    "6<br>\n",
    "9 3 6 12 4 32\n",
    "\n",
    "Sample Output 1 :<br>\n",
    "3 9 12 6 32 4\n"
   ]
  },
  {
   "cell_type": "code",
   "execution_count": 14,
   "metadata": {},
   "outputs": [
    {
     "name": "stdout",
     "output_type": "stream",
     "text": [
      "3 9 12 6 32 6 4\n"
     ]
    }
   ],
   "source": [
    "def swap(arr):\n",
    "    l = len(arr)\n",
    "    i = 0\n",
    "    for k in range(l//2):\n",
    "        arr[i],arr[i+1] = arr[i+1],arr[i]\n",
    "        i += 2\n",
    "    print(*arr,end = '')\n",
    "    print()\n",
    "\n",
    "loop = int(input())\n",
    "for i in range(0,loop):\n",
    "    arr1 = input()\n",
    "    list = [int(x) for x in input().split()]\n",
    "    swap(list)"
   ]
  },
  {
   "cell_type": "markdown",
   "metadata": {},
   "source": [
    "<h2>Find Unique</h2>\n",
    "\n",
    "You have been given an integer array/list(ARR) of size N. Where N is equal to [2M + 1].<br>\n",
    "Now, in the given array/list, 'M' numbers are present twice and one number is present only once.<br>\n",
    "You need to find and return that number which is unique in the array/list\n",
    "\n",
    "Sample Input 1:<br>\n",
    "1<br>\n",
    "7<br>\n",
    "2 3 1 6 3 6 2\n",
    "\n",
    "Sample Output 1:<br>\n",
    "1"
   ]
  },
  {
   "cell_type": "code",
   "execution_count": 28,
   "metadata": {},
   "outputs": [
    {
     "name": "stdout",
     "output_type": "stream",
     "text": [
      "4\n"
     ]
    }
   ],
   "source": [
    "def findUnique(arr, n) :\n",
    "    for i in range(n) :\n",
    "        j = 0\n",
    "        while j < n :\n",
    "            if i != j :\n",
    "                if arr[i] == arr[j] :\n",
    "                    break\n",
    "            j += 1\n",
    "        if j == n : \n",
    "            return arr[i]\n",
    "\n",
    "n = int(input())\n",
    "for i in range(n):\n",
    "    arv = int(input())\n",
    "    list = [int(x) for x in input().split()]\n",
    "    print(findUnique(list,len(list)))"
   ]
  },
  {
   "cell_type": "markdown",
   "metadata": {},
   "source": [
    "<h2>Find Duplicate</h2>\n",
    "\n",
    "You have been given an integer array/list(ARR) of size N which contains numbers from 0 to (N - 2). Each number is present at least once. That is, if N = 5, the array/list constitutes values ranging from 0 to 3 and among these, there is a single integer value that is present twice. You need to find and return that duplicate number present in the array.\n",
    "\n",
    "\n",
    "Sample Input 1:<br>\n",
    "1<br>\n",
    "9<br>\n",
    "0 7 2 5 4 7 1 3 6<br>\n",
    "\n",
    "Sample Output 1:<br>\n",
    "7\n",
    "\n"
   ]
  },
  {
   "cell_type": "code",
   "execution_count": 10,
   "metadata": {},
   "outputs": [
    {
     "name": "stdout",
     "output_type": "stream",
     "text": [
      "1\n"
     ]
    }
   ],
   "source": [
    "def findDuplicate(arr,n):\n",
    "    for i in range(n-1):\n",
    "        for j in range(i+1,n):\n",
    "            if arr[i] == arr[j]:\n",
    "                return arr[i]\n",
    "\n",
    "arr = [int(x) for x in input().split()]\n",
    "n = len(arr)\n",
    "print(findDuplicate(arr,n))"
   ]
  },
  {
   "cell_type": "markdown",
   "metadata": {},
   "source": [
    "<h2>Intersection of Two Arrays II</h2>\n",
    "\n",
    "You have been given two integer arrays/list(ARR1 and ARR2) of size N and M, respectively. You need to print their intersection; An intersection for this problem can be defined when both the arrays/lists contain a particular value or to put it in other words, when there is a common value that exists in both the arrays/lists.\n",
    "\n",
    "Note :\n",
    "\n",
    "Input arrays/lists can contain duplicate elements.\n",
    "\n",
    "The intersection elements printed would be in the order they appear in the first array/list(ARR1)\n",
    "\n",
    "Sample Input 1 :<br>\n",
    "2<br>\n",
    "6<br>\n",
    "2 6 8 5 4 3<br>\n",
    "4<br>\n",
    "2 3 4 7 <br>\n",
    "2<br>\n",
    "10 10<br>\n",
    "1<br>\n",
    "10<br>\n",
    "\n",
    "Sample Output 1 :<br>\n",
    "2 4 3<br>\n",
    "10"
   ]
  },
  {
   "cell_type": "code",
   "execution_count": 27,
   "metadata": {},
   "outputs": [
    {
     "name": "stdout",
     "output_type": "stream",
     "text": [
      "2 1 2 "
     ]
    }
   ],
   "source": [
    "def findIntersection(arr1,n,arr2,m):\n",
    "    for i in range(n):\n",
    "        for j in range(m):\n",
    "            if arr1[i] == arr2[j]:\n",
    "                print(arr1[i],end = ' ')\n",
    "                arr2[j] = sys.maxsize\n",
    "                break\n",
    "\n",
    "loop = int(input())\n",
    "for i in range(loop):\n",
    "    n = int(input())\n",
    "    arr1 = [int(x) for x in input().split()]\n",
    "    m = int(input())\n",
    "    arr2 = [int(x) for x in input().split()]\n",
    "    findIntersection(arr1,n,arr2,m)"
   ]
  },
  {
   "cell_type": "markdown",
   "metadata": {},
   "source": [
    "<h2>Pair Sum</h2>\n",
    "\n",
    "You have been given an integer array/list(ARR) and a number X. Find and return the total number of pairs in the array/list which sum to X.\n",
    "\n",
    "Note:\n",
    "Given array/list can contain duplicate element\n",
    "\n",
    "Sample Input 1:<br>\n",
    "1<br>\n",
    "9<br>\n",
    "1 3 6 2 5 4 3 2 4<br>\n",
    "7<br>\n",
    "Sample Output 1:<br>\n",
    "7<br>\n",
    "Sample Input 2:"
   ]
  },
  {
   "cell_type": "code",
   "execution_count": 39,
   "metadata": {},
   "outputs": [
    {
     "name": "stdout",
     "output_type": "stream",
     "text": [
      "2\n"
     ]
    }
   ],
   "source": [
    "def pairSum(arr, n, x) :\n",
    "    sum = 0\n",
    "    for i in range(n):\n",
    "        for j in range(i+1,n):\n",
    "            if arr[i] + arr[j] == x:\n",
    "                sum += 1\n",
    "    return sum\n",
    "\n",
    "loop = int(input())\n",
    "for i in range(loop):\n",
    "    n = int(input())\n",
    "    arr = [int(x) for x in input().split()]\n",
    "    x = int(input())\n",
    "    print(pairSum(arr,n,x))"
   ]
  },
  {
   "cell_type": "markdown",
   "metadata": {},
   "source": [
    "<h2>Triplet Sum</h2>\n",
    "\n",
    "You have been given a random integer array/list(ARR) and a number X. Find and return the number of triplets in the array/list which sum to X.\n",
    "\n",
    "Note :\n",
    "Given array/list can contain duplicate elements.\n",
    "\n",
    "Sample Input 1:<br>\n",
    "1<br>\n",
    "7<br>\n",
    "1 2 3 4 5 6 7 <br>\n",
    "12<br>\n",
    "Sample Output 1:<br>\n",
    "5"
   ]
  },
  {
   "cell_type": "code",
   "execution_count": 41,
   "metadata": {},
   "outputs": [
    {
     "name": "stdout",
     "output_type": "stream",
     "text": [
      "5\n"
     ]
    }
   ],
   "source": [
    "def tripletSum(arr, n, x) :\n",
    "    sum = 0\n",
    "    for i in range(n):\n",
    "        for j in range(i+1,n):\n",
    "            for k in range(j+1,n):\n",
    "                if arr[i] + arr[j] + arr[k] == x:\n",
    "                    sum += 1\n",
    "    return sum\n",
    "\n",
    "loop = int(input())\n",
    "for i in range(loop):\n",
    "    n = int(input())\n",
    "    arr = [int(x) for x in input().split()]\n",
    "    x = int(input())\n",
    "    print(tripletSum(arr,n,x))"
   ]
  },
  {
   "cell_type": "markdown",
   "metadata": {},
   "source": [
    "<h2>Sort 0 1</h2>\n",
    "\n",
    "You have been given an integer array/list(ARR) of size N that contains only integers, 0 and 1. Write a function to sort this array/list. Think of a solution which scans the array/list only once and don't require use of an extra array/list.\n",
    "\n",
    "Note: You need to change in the given array/list itself. Hence, no need to return or print anything. \n",
    "\n",
    "Sample Input 1:<br>\n",
    "1<br>\n",
    "7<br>\n",
    "0 1 1 0 1 0 1<br>\n",
    "Sample Output 1:<br>\n",
    "0 0 0 1 1 1 1"
   ]
  },
  {
   "cell_type": "code",
   "execution_count": 14,
   "metadata": {},
   "outputs": [
    {
     "name": "stdout",
     "output_type": "stream",
     "text": [
      "0 0 0 1 1 1 1 "
     ]
    }
   ],
   "source": [
    "def sort(arr):\n",
    "    ans = []\n",
    "    for i in range(l):\n",
    "        if arr[i] == 0:\n",
    "            ans.append(arr[i])\n",
    "    for j in range(l):\n",
    "        if arr[j] == 1:\n",
    "            ans.append(arr[j])\n",
    "    for m in range(l):\n",
    "        print(ans[m],end=' ' )\n",
    "            \n",
    "\n",
    "loop = int(input())\n",
    "for p in range(loop):\n",
    "    l = int(input())\n",
    "    arr = [int(x) for x in input().split()]\n",
    "    sort(arr)"
   ]
  },
  {
   "cell_type": "code",
   "execution_count": 13,
   "metadata": {},
   "outputs": [
    {
     "name": "stdout",
     "output_type": "stream",
     "text": [
      "0 0 0 1 1 1 1 "
     ]
    }
   ],
   "source": [
    "def segregate0and1(arr, n) :\n",
    "    count = 0 \n",
    "    for i in range(0, n) :\n",
    "        if (arr[i] == 0) :\n",
    "            count = count + 1\n",
    "    for i in range(0, count) :\n",
    "        arr[i] = 0\n",
    "    for i in range(count, n) :\n",
    "        arr[i] = 1\n",
    "          \n",
    "def print_arr(arr , n) :\n",
    "    for i in range(0, n) :\n",
    "        print(arr[i] , end = \" \")\n",
    "          \n",
    "  \n",
    "loop = int(input())\n",
    "for p in range(loop):\n",
    "    l = int(input())\n",
    "    arr = [int(x) for x in input().split()]\n",
    "    segregate0and1(arr,l)\n",
    "    print_arr(arr, l)\n",
    "  "
   ]
  }
 ],
 "metadata": {
  "kernelspec": {
   "display_name": "Python 3.10.4 64-bit",
   "language": "python",
   "name": "python3"
  },
  "language_info": {
   "codemirror_mode": {
    "name": "ipython",
    "version": 3
   },
   "file_extension": ".py",
   "mimetype": "text/x-python",
   "name": "python",
   "nbconvert_exporter": "python",
   "pygments_lexer": "ipython3",
   "version": "3.10.4"
  },
  "orig_nbformat": 4,
  "vscode": {
   "interpreter": {
    "hash": "a42ccb73e7d9bfdf27e036f1d2b8b681e55fc0743cc5586bc2474d4a60f4b886"
   }
  }
 },
 "nbformat": 4,
 "nbformat_minor": 2
}
