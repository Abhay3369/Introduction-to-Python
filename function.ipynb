{
 "cells": [
  {
   "cell_type": "markdown",
   "metadata": {},
   "source": [
    "<h2>Fahrenheit to Celsius Function</h2>\n",
    "\n",
    "Given three values - Start Fahrenheit Value (S), End Fahrenheit value (E) and Step Size (W), you need to convert all Fahrenheit values from Start to End at the gap of W, into their corresponding Celsius values and print the table.\n",
    "\n",
    "Sample Input 1:\n",
    "0 <br>\n",
    "100 <br>\n",
    "20<br>\n",
    "\n",
    "Sample Output 1:\n",
    "0   -17<br>\n",
    "20  -6<br>\n",
    "40  4<br>\n",
    "60  15<br>\n",
    "80  26<br>\n",
    "100 37"
   ]
  },
  {
   "cell_type": "code",
   "execution_count": 5,
   "metadata": {},
   "outputs": [
    {
     "name": "stdout",
     "output_type": "stream",
     "text": [
      "0 \t -17\n",
      "20 \t -6\n",
      "40 \t 4\n",
      "60 \t 15\n",
      "80 \t 26\n",
      "100 \t 37\n"
     ]
    }
   ],
   "source": [
    "def ftoc(S,E,W):\n",
    "    while S<= E:\n",
    "        C = (S-32)*(5/9)\n",
    "        print(S,'\\t',int(C))\n",
    "        S = S + W\n",
    "\n",
    "S = int(input())\n",
    "E = int(input())\n",
    "W = int(input())\n",
    "ftoc(S,E,W)"
   ]
  },
  {
   "cell_type": "markdown",
   "metadata": {},
   "source": [
    "<h2>Fibonacci Member</h2>\n",
    "\n",
    "Given a number N, figure out if it is a member of fibonacci series or not. Return true if the number is member of fibonacci series else false.\n",
    "\n",
    "Fibonacci Series is defined by the recurrence<br>\n",
    "    F(n) = F(n-1) + F(n-2)<br>\n",
    "where F(0) = 0 and F(1) = 1\n",
    "\n",
    "Sample Input 1 :\n",
    "5\n",
    "\n",
    "Sample Output 1 :\n",
    "true"
   ]
  },
  {
   "cell_type": "code",
   "execution_count": 16,
   "metadata": {},
   "outputs": [
    {
     "name": "stdout",
     "output_type": "stream",
     "text": [
      "No\n"
     ]
    }
   ],
   "source": [
    "# n=int(input(\"Enter the number: \"))\n",
    "def fibo(n):\n",
    "    c,a,b = 0,1,1\n",
    "\n",
    "    if n==0 or n==1:\n",
    "        print(\"Yes\")\n",
    "    else:\n",
    "        while c<n:\n",
    "            c=a+b\n",
    "            b=a\n",
    "            a=c\n",
    "    if c==n:\n",
    "        print(\"Yes\")\n",
    "    else:\n",
    "        print(\"No\")\n",
    "\n",
    "n = int(input())\n",
    "fibo(n)"
   ]
  },
  {
   "cell_type": "markdown",
   "metadata": {},
   "source": [
    "<h2>Palindrome number</h2>\n",
    "Write a program to determine if given number is palindrome or not. Print true if it is palindrome, false otherwise.\n",
    "\n",
    "Palindrome are the numbers for which reverse is exactly same as the original one. For eg. 121\n",
    "\n",
    "Sample Input 1 :\n",
    "121\n",
    "\n",
    "Sample Output 1 :\n",
    "true\n",
    "\n"
   ]
  },
  {
   "cell_type": "code",
   "execution_count": 17,
   "metadata": {},
   "outputs": [
    {
     "name": "stdout",
     "output_type": "stream",
     "text": [
      "true\n"
     ]
    }
   ],
   "source": [
    "def checkPalindrome(n):\n",
    "    Revese = 0\n",
    "    while n > 0:\n",
    "        Remainder = n % 10\n",
    "        n = int(n / 10)\n",
    "        Revese = Revese * 10 + Remainder\n",
    "    return Revese\n",
    "\n",
    "\n",
    "num = int(input())\n",
    "Reverse=checkPalindrome(num)\n",
    "if (num==Reverse):\n",
    "    print('true')\n",
    "else:\n",
    "    print('false')"
   ]
  },
  {
   "cell_type": "markdown",
   "metadata": {},
   "source": [
    "<h2>Check Armstrong</h2>\n",
    "Write a Program to determine if the given number is Armstrong number or not. Print true if number is armstrong, otherwise print false.\n",
    "\n",
    "An Armstrong number is a number (with digits n) such that the sum of its digits raised to nth power is equal to the number itself.\n",
    "\n",
    "Sample Input 1 :\n",
    "1\n",
    "\n",
    "Sample Output 1 :\n",
    "true"
   ]
  },
  {
   "cell_type": "code",
   "execution_count": 34,
   "metadata": {},
   "outputs": [
    {
     "name": "stdout",
     "output_type": "stream",
     "text": [
      "false\n"
     ]
    }
   ],
   "source": [
    "n = int(input())\n",
    "ans = n\n",
    "n2 = str(n)\n",
    "i = int(len(n2))\n",
    "arms = 0\n",
    "\n",
    "while ans >0:\n",
    "    last = ans%10\n",
    "    arms = arms + ((last) ** (i))\n",
    "    ans = (ans//10)\n",
    "    \n",
    "if n == arms:\n",
    "    print(\"true\")\n",
    "else:\n",
    "    print(\"false\")"
   ]
  }
 ],
 "metadata": {
  "kernelspec": {
   "display_name": "Python 3.10.4 64-bit",
   "language": "python",
   "name": "python3"
  },
  "language_info": {
   "codemirror_mode": {
    "name": "ipython",
    "version": 3
   },
   "file_extension": ".py",
   "mimetype": "text/x-python",
   "name": "python",
   "nbconvert_exporter": "python",
   "pygments_lexer": "ipython3",
   "version": "3.10.4"
  },
  "orig_nbformat": 4,
  "vscode": {
   "interpreter": {
    "hash": "a42ccb73e7d9bfdf27e036f1d2b8b681e55fc0743cc5586bc2474d4a60f4b886"
   }
  }
 },
 "nbformat": 4,
 "nbformat_minor": 2
}
