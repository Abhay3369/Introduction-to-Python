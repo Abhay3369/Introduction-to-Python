{
 "cells": [
  {
   "cell_type": "markdown",
   "metadata": {},
   "source": [
    "<h2>Geometric Sum\n",
    "</h2>\n",
    "\n",
    "Given k, find the geometric sum i.e.\n",
    "1 + 1/2 + 1/4 + 1/8 + ... + 1/(2^k) \n",
    "using recursion.\n",
    "\n",
    "Sample Input 1 :\n",
    "3<br>\n",
    "Sample Output 1 : \n",
    "1.87500"
   ]
  },
  {
   "cell_type": "code",
   "execution_count": 6,
   "metadata": {},
   "outputs": [
    {
     "name": "stdout",
     "output_type": "stream",
     "text": [
      "1.87500\n"
     ]
    }
   ],
   "source": [
    "def geometricSum(n):\n",
    "    if n == 0:\n",
    "        return 1\n",
    "    return 1/pow(2,n) + geometricSum(n-1)\n",
    "\n",
    "n = int(input())\n",
    "val = geometricSum(n)\n",
    "print('%.5f' % val)"
   ]
  },
  {
   "cell_type": "markdown",
   "metadata": {},
   "source": [
    "<h2>Check Palindrome (recursive)\n",
    "</h2>\n",
    "\n",
    "Check whether a given String S is a palindrome using recursion. Return true or false.\n",
    "\n",
    "Sample Input 1 :\n",
    "racecar <br>\n",
    "Sample Output 1:\n",
    "true"
   ]
  },
  {
   "cell_type": "code",
   "execution_count": 8,
   "metadata": {},
   "outputs": [
    {
     "name": "stdout",
     "output_type": "stream",
     "text": [
      "true\n"
     ]
    }
   ],
   "source": [
    "def palindrome(string,initial,final):\n",
    "    if initial == final:\n",
    "        return True\n",
    "    if string[initial] != string[final]:\n",
    "        return False\n",
    "    if initial <=final:\n",
    "        return palindrome(string,initial + 1,final - 1)\n",
    "    return True\n",
    "\n",
    "def isPalindrome(n):\n",
    "    n = len(string)\n",
    "    if n == 0:\n",
    "        return True\n",
    "    \n",
    "    return palindrome(string,0,n-1)\n",
    "\n",
    "string = input().split()\n",
    "if isPalindrome(string):\n",
    "    print('true')\n",
    "else:\n",
    "    print('false')"
   ]
  },
  {
   "cell_type": "markdown",
   "metadata": {},
   "source": [
    "<h2>Sum of digits (recursive)\n",
    "</h2>\n",
    "\n",
    "Write a recursive function that returns the sum of the digits of a given integer.\n",
    "\n",
    "Sample Input 1 :\n",
    "12345<br>\n",
    "Sample Output 1 :\n",
    "15"
   ]
  },
  {
   "cell_type": "code",
   "execution_count": 2,
   "metadata": {},
   "outputs": [
    {
     "name": "stdout",
     "output_type": "stream",
     "text": [
      "10\n"
     ]
    }
   ],
   "source": [
    "def sumOfDigits(n):\n",
    "    if n == 0:\n",
    "        return 0\n",
    "    return (n%10 + sumOfDigits(n//10))\n",
    "\n",
    "n = int(input())\n",
    "print(sumOfDigits(n))"
   ]
  },
  {
   "cell_type": "markdown",
   "metadata": {},
   "source": [
    "<h2>Multiplication (Recursive)\n",
    "</h2>\n",
    "\n",
    "Given two integers M & N, calculate and return their multiplication using recursion. You can only use subtraction and addition for your calculation. No other operators are allowed.\n",
    "\n",
    "Sample Input 1 :<br>\n",
    "3 <br>\n",
    "5<br>\n",
    "Sample Output 1 :<br>\n",
    "15\n"
   ]
  },
  {
   "cell_type": "code",
   "execution_count": 6,
   "metadata": {},
   "outputs": [
    {
     "data": {
      "text/plain": [
       "15"
      ]
     },
     "execution_count": 6,
     "metadata": {},
     "output_type": "execute_result"
    }
   ],
   "source": [
    "def multiplication(n,m):\n",
    "    if n == 0 or m == 0:\n",
    "        return 0\n",
    "    return m+multiplication(m,n-1)\n",
    "\n",
    "n = int(input())\n",
    "m = int(input())\n",
    "multiplication(n,m)"
   ]
  },
  {
   "cell_type": "markdown",
   "metadata": {},
   "source": [
    "<h2>Count Zeros</h2>\n",
    "Given an integer N, count and return the number of zeros that are present in the given integer using recursion.\n",
    "\n",
    "Sample Input 1 :\n",
    "0<br>\n",
    "Sample Output 1 :\n",
    "1"
   ]
  },
  {
   "cell_type": "code",
   "execution_count": 12,
   "metadata": {},
   "outputs": [
    {
     "name": "stdout",
     "output_type": "stream",
     "text": [
      "1\n"
     ]
    }
   ],
   "source": [
    "def countZeros(n):\n",
    "    if n ==0:\n",
    "        return 1\n",
    "    if n < 10:\n",
    "        return 0\n",
    "    elif n % 10 == 0:\n",
    "        return countZeros(n//10) + 1\n",
    "    return countZeros(n//10)\n",
    "\n",
    "n = int(input())\n",
    "print(countZeros(n))"
   ]
  },
  {
   "cell_type": "markdown",
   "metadata": {},
   "source": [
    "<h2>String to Integer</h2>\n",
    "Write a recursive function to convert a given string into the number it represents. That is input will be a numeric string that contains only numbers, you need to convert the string into corresponding integer and return the answer.\n",
    "\n",
    "Sample Input 1 :\n",
    "00001231\n",
    "\n",
    "Sample Output 1 :\n",
    "1231\n"
   ]
  },
  {
   "cell_type": "markdown",
   "metadata": {},
   "source": [
    "<h2>String to Integer\n",
    "</h2>\n",
    "\n",
    "Write a recursive function to convert a given string into the number it represents. That is input will be a numeric string that contains only numbers, you need to convert the string into corresponding integer and return the answer.\n",
    "\n",
    "Sample Input 1 :\n",
    "00001231 <br>\n",
    "Sample Output 1 :\n",
    "1231"
   ]
  },
  {
   "cell_type": "code",
   "execution_count": 16,
   "metadata": {},
   "outputs": [
    {
     "name": "stdout",
     "output_type": "stream",
     "text": [
      "12345\n"
     ]
    }
   ],
   "source": [
    "def stringToInt(str):\n",
    "    if len(str) == 1:\n",
    "        return ord(str[0])-ord('0')\n",
    "    y  = stringToInt(str[1: ])\n",
    "    x =  ord(str[0])-ord('0')\n",
    "    \n",
    "    x = x*(10**(len(str)-1))+y\n",
    "    return int(x)\n",
    "\n",
    "str = input()\n",
    "print(stringToInt(str))"
   ]
  },
  {
   "cell_type": "markdown",
   "metadata": {},
   "source": [
    "<h2>Pair Star\n",
    "</h2>\n",
    "\n",
    "Given a string S, compute recursively a new string where identical chars that are adjacent in the original string are separated from each other by a \"*\".\n",
    "\n",
    "Sample Input 1 :\n",
    "hello<br>\n",
    "Sample Output 1:\n",
    "hel*lo"
   ]
  },
  {
   "cell_type": "code",
   "execution_count": 26,
   "metadata": {},
   "outputs": [
    {
     "name": "stdout",
     "output_type": "stream",
     "text": [
      "hel*lo\n"
     ]
    }
   ],
   "source": [
    "def pair(input,output, i =0):\n",
    "    output += input[i]\n",
    "    if  i == len(input)-1:\n",
    "        print(output)\n",
    "        return\n",
    "    if input[i] == input[i+1]:\n",
    "        output += '*'\n",
    "    \n",
    "    pair(input,output,i+1)\n",
    "    \n",
    "input = input()\n",
    "output = ''\n",
    "pair(input,output)\n"
   ]
  },
  {
   "cell_type": "markdown",
   "metadata": {},
   "source": [
    "<h2>Check AB</h2>\n",
    "Suppose you have a string, S, made up of only 'a's and 'b's. Write a recursive function that checks if the string was generated using the following rules:\n",
    "a. The string begins with an 'a'\n",
    "b. Each 'a' is followed by nothing or an 'a' or \"bb\"\n",
    "c. Each \"bb\" is followed by nothing or an 'a'\n",
    "If all the rules are followed by the given string, return true otherwise return false.\n",
    "\n",
    "Sample Input 1 :\n",
    "abb<br>\n",
    "Sample Output 1 :\n",
    "true"
   ]
  },
  {
   "cell_type": "code",
   "execution_count": null,
   "metadata": {},
   "outputs": [],
   "source": [
    "def check(s):\n",
    "\n",
    "    if len(s) == 0:\n",
    "        return 1\n",
    "    if s[0] == 'b':\n",
    "        return False\n",
    "    if s[0] == 'a':\n",
    "        if s[1:] == 'a' or s[1] == '' or s[1:3] == 'bb':\n",
    "            return check(s[3:])\n",
    "        else:\n",
    "            return check(s[1:])\n",
    "    else:\n",
    "        return False\n",
    "\n",
    "\n",
    "s = input()\n",
    "if check(s):\n",
    "    print('true')\n",
    "else:\n",
    "    print('false')"
   ]
  },
  {
   "cell_type": "markdown",
   "metadata": {},
   "source": [
    "<h2>Staircase\n",
    "</h2>\n",
    "\n",
    "A child is running up a staircase with N steps, and can hop either 1 step, 2 steps or 3 steps at a time. Implement a method to count how many possible ways the child can run up to the stairs. You need to return number of possible ways W.\n",
    "\n",
    "Sample Input 1 :\n",
    "4<br>\n",
    "Sample Output 1 :\n",
    "7"
   ]
  },
  {
   "cell_type": "code",
   "execution_count": null,
   "metadata": {},
   "outputs": [],
   "source": [
    "def findStep(n):\n",
    "    if (n == 1 or n == 0):\n",
    "        return 1\n",
    "    elif (n == 2):\n",
    "        return 2\n",
    "    else:\n",
    "        return findStep(n - 3) + findStep(n - 2) + findStep(n - 1)\n",
    "\n",
    "\n",
    "n = int(input())\n",
    "print(findStep(n))\n"
   ]
  }
 ],
 "metadata": {
  "kernelspec": {
   "display_name": "Python 3.10.4 64-bit",
   "language": "python",
   "name": "python3"
  },
  "language_info": {
   "codemirror_mode": {
    "name": "ipython",
    "version": 3
   },
   "file_extension": ".py",
   "mimetype": "text/x-python",
   "name": "python",
   "nbconvert_exporter": "python",
   "pygments_lexer": "ipython3",
   "version": "3.10.4"
  },
  "orig_nbformat": 4,
  "vscode": {
   "interpreter": {
    "hash": "a42ccb73e7d9bfdf27e036f1d2b8b681e55fc0743cc5586bc2474d4a60f4b886"
   }
  }
 },
 "nbformat": 4,
 "nbformat_minor": 2
}
