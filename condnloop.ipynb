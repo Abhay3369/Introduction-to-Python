{
 "cells": [
  {
   "cell_type": "markdown",
   "metadata": {},
   "source": [
    "                             Conditonals And Loops"
   ]
  },
  {
   "cell_type": "markdown",
   "metadata": {},
   "source": [
    "<h2>Check whether the number is prime or not</h2>\n",
    "\n"
   ]
  },
  {
   "cell_type": "code",
   "execution_count": 1,
   "metadata": {},
   "outputs": [
    {
     "name": "stdout",
     "output_type": "stream",
     "text": [
      " Not Prime\n"
     ]
    }
   ],
   "source": [
    "num = int(input())\n",
    "isPrime = True\n",
    "\n",
    "if num >1:\n",
    "    i  = 2\n",
    "    while(i<num):\n",
    "        if (num%i)==0:\n",
    "            isPrime = False\n",
    "            break\n",
    "        i += 1\n",
    "\n",
    "if(num<=1):\n",
    "    print(\"Not Prime\")\n",
    "elif(isPrime):\n",
    "    print(\"Prime Number\")\n",
    "else:\n",
    "    print(\" Not Prime\")\n"
   ]
  },
  {
   "cell_type": "markdown",
   "metadata": {},
   "source": [
    "<h2>Check number</h2>\n",
    "\n",
    "Given an integer n, find if n is positive, negative or 0.\n",
    "If n is positive, print \"Positive\"\n",
    "If n is negative, print \"Negative\"\n",
    "And if n is equal to 0, print \"Zero\".\n",
    "\n",
    "Sample Input 1 :\n",
    "10\n",
    "\n",
    "Sample Output 1 :\n",
    "Positive"
   ]
  },
  {
   "cell_type": "code",
   "execution_count": 6,
   "metadata": {},
   "outputs": [
    {
     "name": "stdout",
     "output_type": "stream",
     "text": [
      "Positive\n"
     ]
    }
   ],
   "source": [
    "n = int(input())\n",
    "if (n>=1):\n",
    "    print(\"Positive\")\n",
    "elif(n<=-1):\n",
    "    print(\"Negative\")\n",
    "else:\n",
    "    print(\"Zero\")"
   ]
  },
  {
   "cell_type": "markdown",
   "metadata": {},
   "source": [
    "<h2>Sum of N numbers</h2>\n",
    "\n",
    "Given an integer n, find and print the sum of numbers from 1 to n.\n",
    "\n",
    "Sample Input :\n",
    "10\n",
    "\n",
    "Sample Output :\n",
    "55"
   ]
  },
  {
   "cell_type": "code",
   "execution_count": 7,
   "metadata": {},
   "outputs": [
    {
     "name": "stdout",
     "output_type": "stream",
     "text": [
      "55\n"
     ]
    }
   ],
   "source": [
    "n = int(input())\n",
    "i = 1\n",
    "sum = 0\n",
    "while(i<=n):\n",
    "    sum = sum + i\n",
    "    i += 1\n",
    "print(sum)"
   ]
  },
  {
   "cell_type": "markdown",
   "metadata": {},
   "source": [
    "<h2>Sum of Even n numbers</h2>\n",
    "Given a number N, print sum of all even numbers from 1 to N.\n",
    "\n",
    "Sample Input 1 :\n",
    " 6\n",
    " \n",
    "Sample Output 1 :\n",
    "12"
   ]
  },
  {
   "cell_type": "code",
   "execution_count": 17,
   "metadata": {},
   "outputs": [
    {
     "name": "stdout",
     "output_type": "stream",
     "text": [
      "20\n"
     ]
    }
   ],
   "source": [
    "n = int(input())\n",
    "i = 0\n",
    "sum = 0\n",
    "while i<=n:\n",
    "    sum += i\n",
    "    i +=2\n",
    "    \n",
    "print(sum)"
   ]
  },
  {
   "cell_type": "markdown",
   "metadata": {},
   "source": [
    "<h2>Fahrenhiet to Celsuis</h2>\n",
    "Given three values - Start Fahrenheit Value (S), End Fahrenheit value (E) and Step Size (W), you need to convert all Fahrenheit values from Start to End at the gap of W, into their corresponding Celsius values and print the table.\n",
    "\n",
    "Sample Input 1:\n",
    "0 \n",
    "100 \n",
    "20\n",
    "\n",
    "Sample Output 1:\n",
    "0   -17\n",
    "20  -6\n",
    "40  4\n",
    "60  15\n",
    "80  26\n",
    "100 37"
   ]
  },
  {
   "cell_type": "code",
   "execution_count": 19,
   "metadata": {},
   "outputs": [
    {
     "name": "stdout",
     "output_type": "stream",
     "text": [
      "0 \t -17\n",
      "20 \t -6\n",
      "40 \t 4\n",
      "60 \t 15\n",
      "80 \t 26\n",
      "100 \t 37\n"
     ]
    }
   ],
   "source": [
    "S = int(input())\n",
    "E = int(input())\n",
    "W = int(input())\n",
    "while S<= E:\n",
    "    C = (S-32)*(5/9)\n",
    "    print(S,'\\t',int(C))\n",
    "    S = S + W"
   ]
  },
  {
   "cell_type": "markdown",
   "metadata": {},
   "source": [
    "<h2>Calculator</h2>\n",
    "\n",
    "Write a program that performs the tasks of a simple calculator. The program should first take an integer as input and then based on that integer perform the task as given below.\n",
    "1. If the input is 1, then 2 integers are taken from the user and their sum is printed.\n",
    "2. If the input is 2, then 2 integers are taken from the user and their difference(1st number - 2nd number) is printed.\n",
    "3. If the input is 3, then 2 integers are taken from the user and their product is printed.\n",
    "4. If the input is 4, then 2 integers are taken from the user and the quotient obtained (on dividing 1st number by 2nd number) is printed.\n",
    "5. If the input is 5, then 2 integers are taken from the user and their remainder(1st number mod 2nd number) is printed.\n",
    "6. If the input is 6, then the program exits.\n",
    "7. For any other input, then print \"Invalid Operation\n",
    "\n",
    "\n",
    "Sample Input:\n",
    "3\n",
    "1\n",
    "2\n",
    "4\n",
    "4\n",
    "2\n",
    "1\n",
    "3\n",
    "2\n",
    "7\n",
    "6\n",
    "\n",
    "Sample Output:\n",
    "2\n",
    "2\n",
    "5\n",
    "Invalid Operation"
   ]
  },
  {
   "cell_type": "code",
   "execution_count": 11,
   "metadata": {},
   "outputs": [
    {
     "name": "stdout",
     "output_type": "stream",
     "text": [
      "Invalid Operation\n"
     ]
    }
   ],
   "source": [
    "n = 0\n",
    "while(n<6):\n",
    "    n = int(input(\"Enter your Number: \"))\n",
    "    if(n<6):\n",
    "        n1 = int(input(\"Enter your 1st  Number: \"))\n",
    "        n2 = int(input(\"Enter your 2nd Number: \"))\n",
    "        if n == 1:\n",
    "            print(n1+n2)\n",
    "            break\n",
    "        elif(n==2):\n",
    "            print(n1-n2)\n",
    "            break\n",
    "        elif(n == 3):\n",
    "            print(n1*n2)\n",
    "            break\n",
    "        elif(n == 4):\n",
    "            print(n1/n2)\n",
    "            break\n",
    "        elif(n==5):\n",
    "            print(n1%n2)\n",
    "            break\n",
    "    elif(n>=7):\n",
    "        print(\"Invalid Operation\")"
   ]
  },
  {
   "cell_type": "markdown",
   "metadata": {},
   "source": [
    "<h2>Reverse Of a Number</h2>\n",
    "\n",
    "Sample Input 1 :\n",
    "1234\n",
    "\n",
    "Sample Output 1 :\n",
    "4321"
   ]
  },
  {
   "cell_type": "code",
   "execution_count": 14,
   "metadata": {},
   "outputs": [
    {
     "name": "stdout",
     "output_type": "stream",
     "text": [
      "401\n"
     ]
    }
   ],
   "source": [
    "n = int(input())\n",
    "reverse = 0\n",
    "while(n>0):\n",
    "    last = n%10\n",
    "    reverse = last + reverse*10\n",
    "    n = n//10\n",
    "\n",
    "print(reverse)"
   ]
  },
  {
   "cell_type": "markdown",
   "metadata": {},
   "source": [
    "<h2>Check wheter it is Palindrome or not</h2>\n",
    "Write a program to determine if given number is palindrome or not. Print true if it is palindrome, false otherwise.\n",
    "\n",
    "Sample Input 1 :\n",
    "121\n",
    "\n",
    "Sample Output 1 :\n",
    "true"
   ]
  },
  {
   "cell_type": "code",
   "execution_count": 22,
   "metadata": {},
   "outputs": [
    {
     "name": "stdout",
     "output_type": "stream",
     "text": [
      "Palindrome\n"
     ]
    }
   ],
   "source": [
    "def Palindrome(n):\n",
    "    reverse = 0\n",
    "    while(n>0):\n",
    "        last = n%10\n",
    "        reverse = last + reverse*10\n",
    "        n = n//10\n",
    "    return reverse\n",
    "\n",
    "n = int(input())\n",
    "num = Palindrome(n)\n",
    "if(n == num):\n",
    "    print(\"Palindrome\")\n",
    "else:\n",
    "    print(\"Not Palindrome\")\n"
   ]
  },
  {
   "cell_type": "markdown",
   "metadata": {},
   "source": [
    "<h2>Sum of Even and Odd in a digit</h2>\n",
    "\n",
    "Write a program to input an integer N and print the sum of all its even digits and sum of all its odd digits separately.\n",
    "\n",
    "Sample Input 1:\n",
    "1234\n",
    "\n",
    "Sample Output 1:\n",
    "6 4"
   ]
  },
  {
   "cell_type": "code",
   "execution_count": 25,
   "metadata": {},
   "outputs": [
    {
     "name": "stdout",
     "output_type": "stream",
     "text": [
      "8 \t 15\n"
     ]
    }
   ],
   "source": [
    "n = int(input())\n",
    "reverse = 0\n",
    "even  = 0\n",
    "odd = 0\n",
    "while(n>0):\n",
    "    last = n%10\n",
    "    if(last%2) == 0:\n",
    "        even = even + last\n",
    "    else:\n",
    "        odd = odd + last\n",
    "    n = n//10\n",
    "print(even,\"\\t\",odd)"
   ]
  },
  {
   "cell_type": "markdown",
   "metadata": {},
   "source": [
    "<h2>Nth Fibonacci Number</h2>\n",
    "Nth term of Fibonacci series F(n), where F(n) is a function, is calculated using the following formula -\n",
    "    F(n) = F(n-1) + F(n-2), \n",
    "    Where, F(1) = F(2) = 1\n",
    "Provided N you have to find out the Nth Fibonacci Number\n",
    "\n",
    "Sample Input 1:\n",
    "6\n",
    "\n",
    "Sample Output 1:\n",
    "8"
   ]
  },
  {
   "cell_type": "code",
   "execution_count": 3,
   "metadata": {},
   "outputs": [
    {
     "name": "stdout",
     "output_type": "stream",
     "text": [
      "2\n"
     ]
    }
   ],
   "source": [
    "n = int(input())\n",
    "a = 0\n",
    "b = 1\n",
    "\n",
    "c = 0\n",
    "for i in range(n):\n",
    "    c = a + b\n",
    "    a = b\n",
    "    b = c\n",
    "print(a)"
   ]
  }
 ],
 "metadata": {
  "interpreter": {
   "hash": "a42ccb73e7d9bfdf27e036f1d2b8b681e55fc0743cc5586bc2474d4a60f4b886"
  },
  "kernelspec": {
   "display_name": "Python 3.10.4 64-bit",
   "language": "python",
   "name": "python3"
  },
  "language_info": {
   "codemirror_mode": {
    "name": "ipython",
    "version": 3
   },
   "file_extension": ".py",
   "mimetype": "text/x-python",
   "name": "python",
   "nbconvert_exporter": "python",
   "pygments_lexer": "ipython3",
   "version": "3.10.4"
  },
  "orig_nbformat": 4
 },
 "nbformat": 4,
 "nbformat_minor": 2
}
