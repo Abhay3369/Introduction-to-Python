{
 "cells": [
  {
   "cell_type": "markdown",
   "metadata": {},
   "source": [
    "<h2>Print 2D array</h2>\n",
    "Given a 2D integer array with n rows and m columns. Print the 0th row from input n times, 1st row n-1 times…..(n-1)th row will be printed 1 time.\n",
    "\n",
    "Sample Input 1:<br>\n",
    "3 3<br>\n",
    "1 2 3<br>\n",
    "4 5 6<br>\n",
    "7 8 9<br>\n",
    "Sample Output 1 :<br>\n",
    "1 2 3<br>\n",
    "1 2 3<br>\n",
    "1 2 3<br>\n",
    "4 5 6<br>\n",
    "4 5 6<br>\n",
    "7 8 9"
   ]
  },
  {
   "cell_type": "code",
   "execution_count": 76,
   "metadata": {},
   "outputs": [
    {
     "name": "stdout",
     "output_type": "stream",
     "text": [
      "Enter the entries in a single line (separated by space): \n",
      "1 2 3\n",
      "1 2 3\n",
      "1 2 3\n",
      "4 5 6\n",
      "4 5 6\n",
      "7 8 9\n"
     ]
    }
   ],
   "source": [
    "import numpy as np\n",
    "  \n",
    "n,m = [int(x) for x in input().split()]\n",
    "# print(\"Enter the entries in a single line (separated by space): \")\n",
    "entries = list(map(int, input().split()))\n",
    "matrix = np.array(entries).reshape(R, C)\n",
    "p = 0\n",
    "for j in range(n):\n",
    "    for i in range(n - p):\n",
    "        print(*matrix[p])\n",
    "    p += 1"
   ]
  },
  {
   "cell_type": "code",
   "execution_count": 67,
   "metadata": {},
   "outputs": [
    {
     "name": "stdout",
     "output_type": "stream",
     "text": [
      "1 2 3\n",
      "1 2 3\n",
      "1 2 3\n",
      "4 5 6\n",
      "4 5 6\n",
      "7 8 9\n"
     ]
    }
   ],
   "source": [
    "n,m=map(int,input().split())\n",
    "for i in range(n):\n",
    "    a=list(map(int,input().split()))\n",
    "    for j in range(n-i):\n",
    "        print(*a)"
   ]
  },
  {
   "cell_type": "markdown",
   "metadata": {},
   "source": [
    "<h2>Minimum Length Word</h2>\n",
    "Given a string S (that can contain multiple words), you need to find the word which has minimum length.\n",
    "Note : If multiple words are of same length, then answer will be first minimum length word in the string.\n",
    "Words are seperated by single space only.\n",
    "\n",
    "Sample Input 1 :\n",
    "this is test string\n",
    "\n",
    "Sample Output 1 :\n",
    "is"
   ]
  },
  {
   "cell_type": "code",
   "execution_count": 88,
   "metadata": {},
   "outputs": [
    {
     "name": "stdout",
     "output_type": "stream",
     "text": [
      "is\n"
     ]
    }
   ],
   "source": [
    "s = input()\n",
    "t = s.split()\n",
    "min_len = 99999\n",
    "for ele in t:\n",
    "    if len(ele) < min_len:\n",
    "        min_len = len(ele)\n",
    "        res = ele\n",
    "    \n",
    "print(res)"
   ]
  },
  {
   "cell_type": "markdown",
   "metadata": {},
   "source": [
    "<h2>Leaders in array\n",
    "</h2>\n",
    "\n",
    "Given an integer array A of size n. Find and print all the leaders present in the input array. An array element A[i] is called Leader, if all the elements following it (i.e. present at its right) are less than or equal to A[i].\n",
    "\n",
    "Print all the leader elements separated by space and in the same order they are present in the input array.\n",
    "\n",
    "\n",
    "Sample Input 1 :<br>\n",
    "6<br>\n",
    "3 12 34 2 0 -1<br>\n",
    "Sample Output 1 :<br>\n",
    "34 2 0 -1"
   ]
  },
  {
   "cell_type": "code",
   "execution_count": 89,
   "metadata": {},
   "outputs": [
    {
     "name": "stdout",
     "output_type": "stream",
     "text": [
      "34 2 0 -1\n"
     ]
    }
   ],
   "source": [
    "n=int(input())\n",
    "l=list(map(int,input().split()))\n",
    "ma=l[-1]\n",
    "l=l[::-1]\n",
    "k=[l[0]]\n",
    "for i in range(1,n):\n",
    "    if l[i]>=ma:\n",
    "        ma=l[i]\n",
    "        k.append(l[i])\n",
    "k=k[::-1]\n",
    "print(*k)"
   ]
  }
 ],
 "metadata": {
  "kernelspec": {
   "display_name": "Python 3.10.4 64-bit",
   "language": "python",
   "name": "python3"
  },
  "language_info": {
   "codemirror_mode": {
    "name": "ipython",
    "version": 3
   },
   "file_extension": ".py",
   "mimetype": "text/x-python",
   "name": "python",
   "nbconvert_exporter": "python",
   "pygments_lexer": "ipython3",
   "version": "3.10.4"
  },
  "orig_nbformat": 4,
  "vscode": {
   "interpreter": {
    "hash": "a42ccb73e7d9bfdf27e036f1d2b8b681e55fc0743cc5586bc2474d4a60f4b886"
   }
  }
 },
 "nbformat": 4,
 "nbformat_minor": 2
}
