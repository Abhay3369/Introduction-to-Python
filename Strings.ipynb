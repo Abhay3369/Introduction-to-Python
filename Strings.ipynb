{
 "cells": [
  {
   "cell_type": "markdown",
   "metadata": {},
   "source": [
    "<h2>Check Palindrome</h2>\n",
    "\n",
    "Given a string, determine if it is a palindrome, considering only alphanumeric characters.\n",
    "\n",
    "Palindrome\n",
    "A palindrome is a word, number, phrase, or other sequences of characters which read the same backwards and forwards.\n",
    "\n",
    "Sample Input 1 :<br>\n",
    "abcdcba<br>\n",
    "Sample Output 1 :<br>\n",
    "true "
   ]
  },
  {
   "cell_type": "code",
   "execution_count": 5,
   "metadata": {},
   "outputs": [
    {
     "name": "stdout",
     "output_type": "stream",
     "text": [
      "true\n"
     ]
    }
   ],
   "source": [
    "def palindrome(str):\n",
    "    if str == str[::-1]:\n",
    "        print(\"true\")\n",
    "    else:\n",
    "        print(\"false\")\n",
    "\n",
    "str = input()\n",
    "palindrome(str)\n"
   ]
  },
  {
   "cell_type": "markdown",
   "metadata": {},
   "source": [
    "<h2>Check Permutation</h2>\n",
    "For a given two strings, 'str1' and 'str2', check whether they are a permutation of each other or not.\n",
    "\n",
    "Permutations of each other<br>\n",
    "Two strings are said to be a permutation of each other when either of the string's characters can be rearranged so that it becomes identical to the other one.\n",
    "\n",
    "Example: <br>\n",
    "str1= \"sinrtg\" <br>\n",
    "str2 = \"string\"<br>\n",
    "\n",
    "The character of the first string(str1) can be rearranged to form str2 and hence we can say that the given strings are a permutation of each other.\n",
    "\n",
    "Sample Input 1:<br>\n",
    "abcde<br>\n",
    "baedc<br>\n",
    "Sample Output 1:<br>\n",
    "true"
   ]
  },
  {
   "cell_type": "code",
   "execution_count": 6,
   "metadata": {},
   "outputs": [
    {
     "name": "stdout",
     "output_type": "stream",
     "text": [
      "true\n"
     ]
    }
   ],
   "source": [
    "def isPermutation(string1, string2) :\n",
    "    if len(string1) == 0 or len(string2)==0:\n",
    "        return False\n",
    "    \n",
    "    freq=[0]*256\n",
    "    for i in range(len(string1)):\n",
    "        ch=ord(string1[i])\n",
    "        \n",
    "        freq[ch]+=1\n",
    "    for i in range(len(string2)):\n",
    "        ch=ord(string2[i])\n",
    "        freq[ch]-=1\n",
    "    for i in range(256):\n",
    "        if freq[i]!=0:\n",
    "            return False\n",
    "    return True\n",
    "        \n",
    "string1 = input()\n",
    "string2 = input()\n",
    "\n",
    "ans = isPermutation(string1, string2)\n",
    "\n",
    "if ans :\n",
    "    print('true')\n",
    "else :\n",
    "    print('false')\n",
    "\n",
    "\n"
   ]
  },
  {
   "cell_type": "markdown",
   "metadata": {},
   "source": [
    "<h2>Remove Consecutive Duplicates\n",
    "</h2>\n",
    "For a given string(str), remove all the consecutive duplicate characters.\n",
    "\n",
    "Example:<br>\n",
    "Input String: \"aaaa\"<br>\n",
    "Expected Output: \"a\"<br>\n",
    "\n",
    "Input String: \"aabbbcc\"<br>\n",
    "Expected Output: \"abc\"\n",
    "\n",
    "Sample Input 1:<br>\n",
    "aabccbaa<br>\n",
    "Sample Output 1:<br>\n",
    "abcba"
   ]
  },
  {
   "cell_type": "code",
   "execution_count": 10,
   "metadata": {},
   "outputs": [
    {
     "name": "stdout",
     "output_type": "stream",
     "text": [
      "a b c b a "
     ]
    }
   ],
   "source": [
    "s = input()\n",
    "s = s + \" \"\n",
    "for i in range(len(s) - 1):\n",
    "    if s[i] != s[i+1]:\n",
    "        print(s[i],end = ' ')"
   ]
  },
  {
   "cell_type": "markdown",
   "metadata": {},
   "source": [
    "<h2>Reverse Each Word\n",
    "</h2>\n",
    "Aadil has been provided with a sentence in the form of a string as a function parameter. The task is to implement a function so as to print the sentence such that each word in the sentence is reversed.\n",
    "\n",
    "Example:<br>\n",
    "Input Sentence: \"Hello, I am Aadil!\"<br>\n",
    "The expected output will print, \",olleH I ma !lidaA\".\n",
    "\n",
    "Sample Input 1:<br>\n",
    "Welcome to Coding Ninjas<br>\n",
    "Sample Output 1:<br>\n",
    "emocleW ot gnidoC sajniN"
   ]
  },
  {
   "cell_type": "code",
   "execution_count": 14,
   "metadata": {},
   "outputs": [
    {
     "name": "stdout",
     "output_type": "stream",
     "text": [
      "emocleW ot gnidoC sajniN "
     ]
    }
   ],
   "source": [
    "s = input()\n",
    "new = s.split()\n",
    "# print(new[0])\n",
    "for i in range(len(new)):\n",
    "    sad = new[i][: : -1]\n",
    "    print(sad,end=' ')"
   ]
  },
  {
   "cell_type": "markdown",
   "metadata": {},
   "source": [
    "<h2>Remove character</h2>\n",
    "For a given a string(str) and a character X, write a function to remove all the occurrences of X from the given string.<br>\n",
    "The input string will remain unchanged if the given character(X) doesn't exist in the input string.\n",
    "\n",
    "Sample Input 1:<br>\n",
    "aabccbaa<br>\n",
    "a<br>\n",
    "Sample Output 1:<br>\n",
    "bccb"
   ]
  },
  {
   "cell_type": "code",
   "execution_count": 16,
   "metadata": {},
   "outputs": [
    {
     "name": "stdout",
     "output_type": "stream",
     "text": [
      "bccb"
     ]
    }
   ],
   "source": [
    "str = input()\n",
    "x = input()\n",
    "for i in range(len(str)):\n",
    "    if str[i] != x:\n",
    "        print(str[i],end = '')\n"
   ]
  },
  {
   "cell_type": "markdown",
   "metadata": {},
   "source": [
    "<h2>Highest Occuring Character</h2>\n",
    "For a given a string(str), find and return the highest occurring character.\n",
    "\n",
    "Example:<br>\n",
    "Input String: \"abcdeapapqarr\"<br>\n",
    "Expected Output: 'a'<br>\n",
    "Since 'a' has appeared four times in the string which happens to be the highest frequency character, the answer would be 'a'.\n",
    "If there are two characters in the input string with the same frequency, return the character which comes first.\n",
    "\n",
    "Sample Input 1:<br>\n",
    "abdefgbabfba<br>\n",
    "Sample Output 1:<br>\n",
    "b"
   ]
  },
  {
   "cell_type": "code",
   "execution_count": 17,
   "metadata": {},
   "outputs": [
    {
     "name": "stdout",
     "output_type": "stream",
     "text": [
      "b\n"
     ]
    }
   ],
   "source": [
    "def get_max_occuring_char(str1):\n",
    "  ASCII_SIZE = 256\n",
    "  ctr = [0] * ASCII_SIZE\n",
    "  max = -1\n",
    "  ch = ''\n",
    "  for i in str1:\n",
    "    ctr[ord(i)]+=1;\n",
    " \n",
    "  for i in str1:\n",
    "    if max < ctr[ord(i)]:\n",
    "      max = ctr[ord(i)]\n",
    "      ch = i\n",
    "  return ch\n",
    "\n",
    "str1=input()\n",
    "print(get_max_occuring_char(str1))\n"
   ]
  },
  {
   "cell_type": "markdown",
   "metadata": {},
   "source": [
    "<h2>Compress the String</h2>\n",
    "Write a program to do basic string compression. For a character which is consecutively repeated more than once, replace consecutive duplicate occurrences with the count of repetitions.\n",
    "\n",
    "Example:\n",
    "\n",
    "If a string has 'x' repeated 5 times, replace this \"xxxxx\" with \"x5\".\n",
    "\n",
    "The string is compressed only when the repeated character count is more than 1.\n",
    "\n",
    "Sample Input 1:L<br>\n",
    "aaabbccdsa<br>\n",
    "Sample Output 1:<br>\n",
    "a3b2c2dsa"
   ]
  },
  {
   "cell_type": "code",
   "execution_count": 24,
   "metadata": {},
   "outputs": [
    {
     "ename": "TypeError",
     "evalue": "'str' object is not callable",
     "output_type": "error",
     "traceback": [
      "\u001b[1;31m---------------------------------------------------------------------------\u001b[0m",
      "\u001b[1;31mTypeError\u001b[0m                                 Traceback (most recent call last)",
      "\u001b[1;32mc:\\Users\\Admin\\Documents\\Introduction to Python\\Strings.ipynb Cell 14\u001b[0m in \u001b[0;36m<cell line: 18>\u001b[1;34m()\u001b[0m\n\u001b[0;32m     <a href='vscode-notebook-cell:/c%3A/Users/Admin/Documents/Introduction%20to%20Python/Strings.ipynb#ch0000013?line=14'>15</a>\u001b[0m    \u001b[39mreturn\u001b[39;00m res\n\u001b[0;32m     <a href='vscode-notebook-cell:/c%3A/Users/Admin/Documents/Introduction%20to%20Python/Strings.ipynb#ch0000013?line=16'>17</a>\u001b[0m s \u001b[39m=\u001b[39m \u001b[39m\"\u001b[39m\u001b[39mabbbaaaaaaccdaaab\u001b[39m\u001b[39m\"\u001b[39m\n\u001b[1;32m---> <a href='vscode-notebook-cell:/c%3A/Users/Admin/Documents/Introduction%20to%20Python/Strings.ipynb#ch0000013?line=17'>18</a>\u001b[0m \u001b[39mprint\u001b[39m(solve(s))\n",
      "\u001b[1;32mc:\\Users\\Admin\\Documents\\Introduction to Python\\Strings.ipynb Cell 14\u001b[0m in \u001b[0;36msolve\u001b[1;34m(s)\u001b[0m\n\u001b[0;32m      <a href='vscode-notebook-cell:/c%3A/Users/Admin/Documents/Introduction%20to%20Python/Strings.ipynb#ch0000013?line=7'>8</a>\u001b[0m       res \u001b[39m=\u001b[39m res \u001b[39m+\u001b[39m s[i \u001b[39m-\u001b[39m \u001b[39m1\u001b[39m]\n\u001b[0;32m      <a href='vscode-notebook-cell:/c%3A/Users/Admin/Documents/Introduction%20to%20Python/Strings.ipynb#ch0000013?line=8'>9</a>\u001b[0m       \u001b[39mif\u001b[39;00m cnt \u001b[39m>\u001b[39m \u001b[39m1\u001b[39m:\n\u001b[1;32m---> <a href='vscode-notebook-cell:/c%3A/Users/Admin/Documents/Introduction%20to%20Python/Strings.ipynb#ch0000013?line=9'>10</a>\u001b[0m          res \u001b[39m+\u001b[39m\u001b[39m=\u001b[39m \u001b[39mstr\u001b[39;49m(cnt)\n\u001b[0;32m     <a href='vscode-notebook-cell:/c%3A/Users/Admin/Documents/Introduction%20to%20Python/Strings.ipynb#ch0000013?line=10'>11</a>\u001b[0m       cnt \u001b[39m=\u001b[39m \u001b[39m1\u001b[39m\n\u001b[0;32m     <a href='vscode-notebook-cell:/c%3A/Users/Admin/Documents/Introduction%20to%20Python/Strings.ipynb#ch0000013?line=11'>12</a>\u001b[0m res \u001b[39m=\u001b[39m res \u001b[39m+\u001b[39m s[\u001b[39m-\u001b[39m\u001b[39m1\u001b[39m]\n",
      "\u001b[1;31mTypeError\u001b[0m: 'str' object is not callable"
     ]
    }
   ],
   "source": [
    "def solve(s):\n",
    "   res = \"\"\n",
    "   cnt = 1\n",
    "   for i in range(1, len(s)):\n",
    "      if s[i - 1] == s[i]:\n",
    "         cnt += 1\n",
    "      else:\n",
    "         res = res + s[i - 1]\n",
    "         if cnt > 1:\n",
    "            res += str(cnt)\n",
    "         cnt = 1\n",
    "   res = res + s[-1]\n",
    "   if cnt > 1:\n",
    "      res += str(cnt)\n",
    "   return res\n",
    "\n",
    "s = \"abbbaaaaaaccdaaab\"\n",
    "print(solve(s))"
   ]
  }
 ],
 "metadata": {
  "kernelspec": {
   "display_name": "Python 3.10.4 64-bit",
   "language": "python",
   "name": "python3"
  },
  "language_info": {
   "codemirror_mode": {
    "name": "ipython",
    "version": 3
   },
   "file_extension": ".py",
   "mimetype": "text/x-python",
   "name": "python",
   "nbconvert_exporter": "python",
   "pygments_lexer": "ipython3",
   "version": "3.10.4"
  },
  "orig_nbformat": 4,
  "vscode": {
   "interpreter": {
    "hash": "a42ccb73e7d9bfdf27e036f1d2b8b681e55fc0743cc5586bc2474d4a60f4b886"
   }
  }
 },
 "nbformat": 4,
 "nbformat_minor": 2
}
