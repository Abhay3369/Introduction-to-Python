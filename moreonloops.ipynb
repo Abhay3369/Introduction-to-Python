{
 "cells": [
  {
   "cell_type": "markdown",
   "metadata": {},
   "source": [
    "<h2>Binary Pattern</h2>\n",
    "\n",
    "Print the following pattern for the given number of rows.\n",
    "\n",
    "Pattern for N = 4\n",
    "\n",
    "1111<br>\n",
    "000<br>\n",
    "11<br>\n",
    "0<br>\n",
    "\n",
    "Sample Input :\n",
    "5\n",
    "\n",
    "Sample Output :\n",
    "1111<br>\n",
    "000<br>\n",
    "11<br>\n",
    "0<br>\n",
    "1"
   ]
  },
  {
   "cell_type": "code",
   "execution_count": 7,
   "metadata": {},
   "outputs": [
    {
     "name": "stdout",
     "output_type": "stream",
     "text": [
      "11111\n",
      "0000\n",
      "111\n",
      "00\n",
      "1\n"
     ]
    }
   ],
   "source": [
    "n = int(input())\n",
    "for i in range(1,n+1):\n",
    "    for j in range(n - i+1):\n",
    "        if (i%2 == 0):\n",
    "            print(\"0\",end = '')\n",
    "        else:\n",
    "            print(\"1\",end = '')\n",
    "    print()"
   ]
  },
  {
   "cell_type": "markdown",
   "metadata": {},
   "source": [
    "<h2>Print Number Pyramid</h2>\n",
    "Print the following pattern for a given n.\n",
    "\n",
    "For eg. N = 6\n",
    "123456<br>\n",
    "  23456<br>\n",
    "    3456<br>\n",
    "      456<br>\n",
    "        56<br>\n",
    "          6<br>\n",
    "        56<br>\n",
    "      456<br>\n",
    "    3456<br>\n",
    "  23456<br>\n",
    "123456<br>\n",
    "\n",
    "\n",
    "Sample Input 1 :\n",
    "4\n",
    "\n",
    "Sample Output 1 :\n",
    "\n",
    "1234<br>\n",
    "  234<br>\n",
    "    34<br>\n",
    "      4<br>\n",
    "    34<br>\n",
    "  234<br>\n",
    "1234<br>\n"
   ]
  },
  {
   "cell_type": "code",
   "execution_count": 17,
   "metadata": {},
   "outputs": [
    {
     "name": "stdout",
     "output_type": "stream",
     "text": [
      "1234\n",
      " 234\n",
      "  34\n",
      "   4\n",
      "  34\n",
      " 234\n",
      "1234\n"
     ]
    }
   ],
   "source": [
    "n = int(input())\n",
    "for i in range(1,n+1):\n",
    "    for j in range(1,i):\n",
    "        print(\" \",end=\"\")\n",
    "    for k in range(0,n - i+1):\n",
    "        print(k+i,end = '')\n",
    "    print()\n",
    "for a in range(1,n):\n",
    "    for s in range(n-1-a,0,-1):\n",
    "        print(\" \",end=\"\")\n",
    "    for k in range(n-a,n+1):\n",
    "        print(k,end=\"\")\n",
    "    print()"
   ]
  },
  {
   "cell_type": "markdown",
   "metadata": {},
   "source": [
    "<h2>Rectangular numbers</h2>\n",
    "\n",
    "Print the following pattern for the given number of rows.\n",
    "\n",
    "Pattern for N = 4\n",
    "4444444<br>\n",
    "4333334<br>\n",
    "4322234<br>\n",
    "4321234<br>\n",
    "4322234<br>\n",
    "4333334<br>\n",
    "4444444<br>\n",
    "\n",
    "Sample Input :\n",
    "3\n",
    "\n",
    "Sample Output :\n",
    "\n",
    "33333<br>\n",
    "32223<br>\n",
    "32123<br>\n",
    "32223<br>\n",
    "33333"
   ]
  },
  {
   "cell_type": "code",
   "execution_count": 22,
   "metadata": {},
   "outputs": [
    {
     "name": "stdout",
     "output_type": "stream",
     "text": [
      "4444444\n",
      "4333334\n",
      "4322234\n",
      "4321234\n",
      "4322234\n",
      "4333334\n",
      "4444444\n"
     ]
    }
   ],
   "source": [
    "\n",
    "n=int(input())\n",
    "p1=n\n",
    "\n",
    "for i in range (1,n+1):\n",
    "    p3 = n\n",
    "    for k in range(1,i):\n",
    "        print(p3,end=\"\")\n",
    "        p3-=1\n",
    "    for j in range (1,2*n+2-2*i):\n",
    "        print(p1,end=\"\")\n",
    "    p1 -= 1\n",
    "\n",
    "    for l in range (1,i):\n",
    "        p3+=1\n",
    "        print(p3,end=\"\")\n",
    "    print(\"\")\n",
    "\n",
    "\n",
    "p1=2\n",
    "\n",
    "for i in range (n,1,-1):\n",
    "    p3 = n\n",
    "    for k in range(1,i):\n",
    "        print(p3,end=\"\")\n",
    "        p3-=1\n",
    "    for j in range (1,2*n+2-2*i):\n",
    "        print(p1,end=\"\")\n",
    "    p1+= 1\n",
    "\n",
    "    for l in range (1,i):\n",
    "        p3+=1\n",
    "        print(p3,end=\"\")\n",
    "    print(\"\")\n"
   ]
  },
  {
   "cell_type": "markdown",
   "metadata": {},
   "source": [
    "<h2>Print the pattern</h2>\n",
    "\n",
    "Print the following pattern for the given number of rows.\n",
    "\n",
    "Pattern for N = 5\n",
    "\n",
    " 1    2   3    4   5<br>\n",
    " 11   12  13   14  15<br>\n",
    " 21   22  23   24  25<br>\n",
    " 16   17  18   19  20<br>\n",
    " 6    7    8   9   10<br>\n",
    "\n",
    " Sample Input :\n",
    "4\n",
    "\n",
    "Sample Output :\n",
    "\n",
    " 1  2  3  4<br>\n",
    " 9 10 11 12<br>\n",
    "13 14 15 16<br>\n",
    " 5  6  7  8<br>\n"
   ]
  },
  {
   "cell_type": "code",
   "execution_count": 25,
   "metadata": {},
   "outputs": [
    {
     "name": "stdout",
     "output_type": "stream",
     "text": [
      "1 2 3 4 \n",
      "9 10 11 12 \n",
      "13 14 15 16 \n",
      "5 6 7 8 \n"
     ]
    }
   ],
   "source": [
    "n = int(input())\n",
    "startValue = 1\n",
    "for i in range(1,n+1):\n",
    "    for j in range(startValue,startValue + n):\n",
    "        print(j,end= \" \")\n",
    "    print()\n",
    "    if (i==((n+1)//2)):\n",
    "        if ((n%2)!=0):\n",
    "            startValue = n*(n-2)+1\n",
    "        else:\n",
    "            startValue = n*(n-1) + 1\n",
    "    elif((i>(n+1)//2)):\n",
    "        startValue = startValue - 2*n\n",
    "    else:\n",
    "        startValue = startValue + 2*n\n",
    "        "
   ]
  }
 ],
 "metadata": {
  "kernelspec": {
   "display_name": "Python 3.10.4 64-bit",
   "language": "python",
   "name": "python3"
  },
  "language_info": {
   "codemirror_mode": {
    "name": "ipython",
    "version": 3
   },
   "file_extension": ".py",
   "mimetype": "text/x-python",
   "name": "python",
   "nbconvert_exporter": "python",
   "pygments_lexer": "ipython3",
   "version": "3.10.4"
  },
  "orig_nbformat": 4,
  "vscode": {
   "interpreter": {
    "hash": "a42ccb73e7d9bfdf27e036f1d2b8b681e55fc0743cc5586bc2474d4a60f4b886"
   }
  }
 },
 "nbformat": 4,
 "nbformat_minor": 2
}
