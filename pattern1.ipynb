{
 "cells": [
  {
   "cell_type": "markdown",
   "metadata": {},
   "source": [
    "<h2>Code : Square Pattern</h2>\n",
    "Print the following pattern for the given N number of rows.\n",
    "\n",
    "Pattern for N = 4\n",
    "4444><br>\n",
    "4444<br>\n",
    "4444<br>\n",
    "4444<br>\n",
    "\n",
    "Sample Input 1:\n",
    "7\n",
    "\n",
    "Sample Output 1:\n",
    "7777777<br>\n",
    "7777777<br>\n",
    "7777777<br>\n",
    "7777777<br>\n",
    "7777777<br>\n",
    "7777777<br>\n",
    "7777777<br>\n"
   ]
  },
  {
   "cell_type": "code",
   "execution_count": 5,
   "metadata": {},
   "outputs": [
    {
     "name": "stdout",
     "output_type": "stream",
     "text": [
      "4444\n",
      "4444\n",
      "4444\n",
      "4444\n"
     ]
    }
   ],
   "source": [
    "n = int(input())\n",
    "for i in range(0,n):\n",
    "    for j in range(0,n):\n",
    "        print(n,end= '')\n",
    "    print()"
   ]
  },
  {
   "cell_type": "markdown",
   "metadata": {},
   "source": [
    "<h2>Code : Triangular Star Pattern</h2>\n",
    "Print the following pattern for the given N number of rows.\n",
    "\n",
    "Pattern for N = 4<br>\n",
    "*<br>\n",
    "**<br>\n",
    "***<br>\n",
    "****<br>\n",
    "\n",
    "Sample Input 1:\n",
    "5\n",
    "\n",
    "Sample Output 1:<br>\n",
    "*<br>\n",
    "**<br>\n",
    "***<br>\n",
    "****<br>\n",
    "*****<br>\n",
    "\n"
   ]
  },
  {
   "cell_type": "code",
   "execution_count": 43,
   "metadata": {},
   "outputs": [
    {
     "name": "stdout",
     "output_type": "stream",
     "text": [
      "*\n",
      "**\n",
      "***\n",
      "****\n",
      "*****\n"
     ]
    }
   ],
   "source": [
    "n = int(input())\n",
    "for i in range(1,n+2):\n",
    "    for j in range(i):\n",
    "        print('*',end = '')\n",
    "    print()"
   ]
  },
  {
   "cell_type": "markdown",
   "metadata": {},
   "source": [
    "<h2>Code : Triangular Star Pattern</h2>\n",
    "Print the following pattern for the given N number of rows.\n",
    "\n",
    "Pattern for N = 4<br>\n",
    "1<br>\n",
    "22<br>\n",
    "333<br>\n",
    "4444<br>\n",
    "\n",
    "Sample Input 1:\n",
    "5\n",
    "\n",
    "Sample Output 1:<br>\n",
    "1<br>\n",
    "22<br>\n",
    "333<br>\n",
    "4444<br>\n",
    "55555<br>\n",
    "\n"
   ]
  },
  {
   "cell_type": "code",
   "execution_count": 42,
   "metadata": {},
   "outputs": [
    {
     "name": "stdout",
     "output_type": "stream",
     "text": [
      "1\n",
      "22\n",
      "333\n",
      "4444\n",
      "55555\n"
     ]
    }
   ],
   "source": [
    "n = int(input())\n",
    "for i in range(1,n+2):\n",
    "    for j in range(i):\n",
    "        print(i,end = '')\n",
    "    print()"
   ]
  },
  {
   "cell_type": "markdown",
   "metadata": {},
   "source": [
    "<h2>Code : Triangular Star Pattern</h2>\n",
    "Print the following pattern for the given N number of rows.\n",
    "\n",
    "Pattern for N = 4<br>\n",
    "1<br>\n",
    "21<br>\n",
    "321<br>\n",
    "4321<br>\n",
    "\n",
    "Sample Input 1:\n",
    "5\n",
    "\n",
    "Sample Output 1:<br>\n",
    "1<br>\n",
    "21<br>\n",
    "321<br>\n",
    "4321<br>\n",
    "54321<br>\n",
    "\n"
   ]
  },
  {
   "cell_type": "code",
   "execution_count": 27,
   "metadata": {},
   "outputs": [
    {
     "name": "stdout",
     "output_type": "stream",
     "text": [
      "1\n",
      "21\n",
      "321\n",
      "4321\n",
      "54321\n"
     ]
    }
   ],
   "source": [
    "# for loop\n",
    "n = int(input())\n",
    "for i in range(1,n+2):\n",
    "    for j in range(1,i):\n",
    "        print(i-j,end = '')\n",
    "    print()\n",
    "\n",
    "# while loop\n",
    "n = int(input())\n",
    "i = 1\n",
    "while i<=n:\n",
    "    j = i\n",
    "    while j>= 1:\n",
    "        print(j,end = '')\n",
    "        j -= 1\n",
    "    print()\n",
    "    i +=1 \n"
   ]
  },
  {
   "cell_type": "markdown",
   "metadata": {},
   "source": [
    "<h2>Code : Character Pattern</h2>\n",
    "Print the following pattern for the given N number of rows.\n",
    "\n",
    "Pattern for N = 4<br>\n",
    "A<br>\n",
    "BC<br>\n",
    "CDE<br>\n",
    "DEFG<br>\n",
    "\n",
    "Sample Input 1:\n",
    "5\n",
    "\n",
    "Sample Output 1:<br>\n",
    "A<br>\n",
    "BC<br>\n",
    "CDE<br>\n",
    "DEFG<br>\n",
    "EFGHI<br>\n",
    "\n"
   ]
  },
  {
   "cell_type": "code",
   "execution_count": 49,
   "metadata": {},
   "outputs": [
    {
     "name": "stdout",
     "output_type": "stream",
     "text": [
      "A\n",
      "BC\n",
      "CDE\n",
      "DEFG\n",
      "EFGHI\n"
     ]
    }
   ],
   "source": [
    "n = int(input())\n",
    "i = 1\n",
    "while i<=n:\n",
    "    j = 1\n",
    "    p = i\n",
    "    while j<=i:\n",
    "        print(chr(64 + p), end=\"\")\n",
    "        j = j+1\n",
    "        p = p+1\n",
    "    print()\n",
    "    i = i+1"
   ]
  },
  {
   "cell_type": "markdown",
   "metadata": {},
   "source": [
    "<h2>Code : Interesting Alphabets</h2>\n",
    "Print the following pattern for the given N number of rows.\n",
    "\n",
    "Pattern for N = 4<br>\n",
    "E<br>\n",
    "DE<br>\n",
    "CDE<br>\n",
    "BCDE<br>\n",
    "ABCDE<br>\n",
    "\n",
    "Sample Input 1:\n",
    "8\n",
    "\n",
    "Sample Output 1:<br>\n",
    "H<br>\n",
    "GH<br>\n",
    "FGH<br>\n",
    "EFGH<br>\n",
    "DEFGH<br>\n",
    "CDEFGH<br>\n",
    "BCDEFGH<br>\n",
    "ABCDEFGH<br>\n",
    "\n"
   ]
  },
  {
   "cell_type": "code",
   "execution_count": 51,
   "metadata": {},
   "outputs": [
    {
     "name": "stdout",
     "output_type": "stream",
     "text": [
      "H\n",
      "GH\n",
      "FGH\n",
      "EFGH\n",
      "DEFGH\n",
      "CDEFGH\n",
      "BCDEFGH\n",
      "ABCDEFGH\n"
     ]
    }
   ],
   "source": [
    "n = int(input())\n",
    "i = 1\n",
    "while i<=n:\n",
    "    j = 1\n",
    "    p = n - i + 1\n",
    "    while j<=i:\n",
    "        print(chr(64 + p), end=\"\")\n",
    "        j = j+1\n",
    "        p = p+1\n",
    "    print()\n",
    "    i = i+1"
   ]
  },
  {
   "cell_type": "markdown",
   "metadata": {},
   "source": [
    "<h2>Number Pattern 1</h2>\n",
    "Print the following pattern for the given N number of rows.\n",
    "\n",
    "Pattern for N = 4\n",
    "\n",
    "1<br>\n",
    "11<br>\n",
    "111<br>\n",
    "1111<br>\n",
    "\n",
    "Sample Input :\n",
    "5\n",
    "Sample Output :\n",
    "\n",
    "1<br>\n",
    "11<br>\n",
    "111<br>\n",
    "1111<br>\n",
    "11111<br>\n",
    "\n"
   ]
  },
  {
   "cell_type": "code",
   "execution_count": 5,
   "metadata": {},
   "outputs": [
    {
     "name": "stdout",
     "output_type": "stream",
     "text": [
      "\n",
      "1\n",
      "11\n",
      "111\n",
      "1111\n",
      "11111\n"
     ]
    }
   ],
   "source": [
    "# while loop\n",
    "n = int(input())\n",
    "i = 1\n",
    "while (i<=n):\n",
    "    j = 1\n",
    "    while(j<=i):\n",
    "        print(\"1\",end = '')\n",
    "        j = j+1\n",
    "    print()\n",
    "    i += 1\n",
    "\n",
    "# for loop\n",
    "n = int(input())\n",
    "for i in range(0,n+1):\n",
    "    for j in range(i):\n",
    "        print(\"1\",end = '')\n",
    "    print()\n",
    "\n",
    "\n"
   ]
  },
  {
   "cell_type": "markdown",
   "metadata": {},
   "source": [
    "<h2>Number Pattern 2</h2>\n",
    "Print the following pattern for the given N number of rows.\n",
    "\n",
    "Pattern for N = 4\n",
    "\n",
    "1<br>\n",
    "11<br>\n",
    "202<br>\n",
    "3003<br>\n",
    "\n",
    "Sample Input :\n",
    "5\n",
    "Sample Output :\n",
    "\n",
    "1<br>\n",
    "11<br>\n",
    "202<br>\n",
    "3003<br>\n",
    "40004<br>\n",
    "\n"
   ]
  },
  {
   "cell_type": "code",
   "execution_count": 17,
   "metadata": {},
   "outputs": [
    {
     "name": "stdout",
     "output_type": "stream",
     "text": [
      "1\n",
      "11\n",
      "202\n",
      "3003\n",
      "40004\n"
     ]
    }
   ],
   "source": [
    "n = int(input())\n",
    "i = 1\n",
    "print(\"1\")\n",
    "while (i<n):\n",
    "    j = 0\n",
    "    while(j<i+1):\n",
    "        if(j == 0 or j == i):\n",
    "            print(i,end = '')\n",
    "        else:\n",
    "            print(\"0\",end = '')\n",
    "        j += 1\n",
    "    i += 1\n",
    "    print()\n",
    "\n",
    "\n",
    "# for loop\n",
    "n = int(input())\n",
    "print(\"1\")\n",
    "for i in range(1,n):\n",
    "    for j in range(0,i+1):\n",
    "        if (j == 0 or j == i):\n",
    "            print(i,end = '')\n",
    "        else:\n",
    "            print('0',end='')\n",
    "    print()"
   ]
  },
  {
   "cell_type": "markdown",
   "metadata": {},
   "source": [
    "<h2>Number Pattern 3</h2>\n",
    "Print the following pattern for the given N number of rows.\n",
    "\n",
    "Pattern for N = 4\n",
    "\n",
    "1<br>\n",
    "11<br>\n",
    "121<br>\n",
    "1221<br>\n",
    "\n",
    "Sample Input :\n",
    "5\n",
    "Sample Output :\n",
    "\n",
    "1<br>\n",
    "11<br>\n",
    "121<br>\n",
    "1221<br>\n",
    "12221<br>\n",
    "\n"
   ]
  },
  {
   "cell_type": "code",
   "execution_count": 20,
   "metadata": {},
   "outputs": [
    {
     "name": "stdout",
     "output_type": "stream",
     "text": [
      "1\n",
      "11\n",
      "121\n",
      "1221\n",
      "12221\n"
     ]
    }
   ],
   "source": [
    "# while loop\n",
    "n = int(input())\n",
    "i = 1\n",
    "print(\"1\")\n",
    "while (i<n):\n",
    "    j = 0\n",
    "    while(j<i+1):\n",
    "        if(j == 0 or j == i):\n",
    "            print(\"1\",end = '')\n",
    "        else:\n",
    "            print(\"2\",end = '')\n",
    "        j += 1\n",
    "    i += 1\n",
    "    print()\n",
    "\n",
    "\n",
    "# for loop\n",
    "n = int(input())\n",
    "print(\"1\")\n",
    "for i in range(1,n):\n",
    "    for j in range(0,i+1):\n",
    "        if (j == 0 or j == i):\n",
    "            print(\"1\",end = '')\n",
    "        else:\n",
    "            print('2',end='')\n",
    "    print()"
   ]
  },
  {
   "cell_type": "markdown",
   "metadata": {},
   "source": [
    "<h2>Number Pattern 4</h2>\n",
    "Print the following pattern for the given N number of rows.\n",
    "\n",
    "Pattern for N = 4\n",
    "\n",
    "1234<br>\n",
    "123<br>\n",
    "12<br>\n",
    "1<br>\n",
    "\n",
    "Sample Input :\n",
    "5\n",
    "Sample Output :\n",
    "\n",
    "12345<br>\n",
    "1234<br>\n",
    "123<br>\n",
    "12<br>\n",
    "1<br>\n",
    "\n"
   ]
  },
  {
   "cell_type": "code",
   "execution_count": 25,
   "metadata": {},
   "outputs": [
    {
     "name": "stdout",
     "output_type": "stream",
     "text": [
      "12345\n",
      "1234\n",
      "123\n",
      "12\n",
      "1\n"
     ]
    }
   ],
   "source": [
    "n = int(input())\n",
    "for i in range(1,n+1):\n",
    "    for j in range(1,n-i+2):\n",
    "        print(j,end='')\n",
    "    print()"
   ]
  },
  {
   "cell_type": "markdown",
   "metadata": {},
   "source": [
    "<h2>Alpha Pattern</h2>\n",
    "Print the following pattern for the given N number of rows.\n",
    "\n",
    "Pattern for N = 3\n",
    "\n",
    " A<br>\n",
    " BB<br>\n",
    " CCC<br>\n",
    "\n",
    " Sample Input 1:\n",
    "7\n",
    "\n",
    "Sample Output 1:\n",
    "\n",
    "A<br>\n",
    "BB<br>\n",
    "CCC<br>\n",
    "DDDD<br>\n",
    "EEEEE<br>\n",
    "FFFFFF<br>\n",
    "GGGGGGG<br>"
   ]
  },
  {
   "cell_type": "code",
   "execution_count": 29,
   "metadata": {},
   "outputs": [
    {
     "name": "stdout",
     "output_type": "stream",
     "text": [
      "A\n",
      "BB\n",
      "CCC\n",
      "DDDD\n",
      "EEEEE\n",
      "FFFFFF\n"
     ]
    }
   ],
   "source": [
    "n = int(input())\n",
    "for i in range(1,n+1):\n",
    "    for j in range(0,i):\n",
    "        print(chr(64+i),end = '')\n",
    "    print()"
   ]
  }
 ],
 "metadata": {
  "kernelspec": {
   "display_name": "Python 3.10.4 64-bit",
   "language": "python",
   "name": "python3"
  },
  "language_info": {
   "codemirror_mode": {
    "name": "ipython",
    "version": 3
   },
   "file_extension": ".py",
   "mimetype": "text/x-python",
   "name": "python",
   "nbconvert_exporter": "python",
   "pygments_lexer": "ipython3",
   "version": "3.10.4"
  },
  "orig_nbformat": 4,
  "vscode": {
   "interpreter": {
    "hash": "a42ccb73e7d9bfdf27e036f1d2b8b681e55fc0743cc5586bc2474d4a60f4b886"
   }
  }
 },
 "nbformat": 4,
 "nbformat_minor": 2
}
